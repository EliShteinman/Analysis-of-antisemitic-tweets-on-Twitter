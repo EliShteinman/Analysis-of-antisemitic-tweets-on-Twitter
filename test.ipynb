{
 "cells": [
  {
   "cell_type": "markdown",
   "id": "860bd4b4",
   "metadata": {},
   "source": [
    "ייבוא ספריות נצרכות"
   ]
  },
  {
   "cell_type": "code",
   "execution_count": 1,
   "id": "e75e918f",
   "metadata": {},
   "outputs": [],
   "source": [
    "import pandas as pd\n",
    "from string import ascii_uppercase\n",
    "from pprint import pprint\n",
    "import json\n"
   ]
  },
  {
   "cell_type": "markdown",
   "id": "4723b8b1",
   "metadata": {},
   "source": [
    "טעינת הdata"
   ]
  },
  {
   "cell_type": "code",
   "execution_count": 2,
   "id": "85f76b2b",
   "metadata": {},
   "outputs": [],
   "source": [
    "data = \"data/tweets_dataset.csv\"\n",
    "df = pd.read_csv(data)\n"
   ]
  },
  {
   "cell_type": "markdown",
   "id": "9deaada8",
   "metadata": {},
   "source": [
    "יצירת דיקשנרי לצורך מילוי המידע"
   ]
  },
  {
   "cell_type": "code",
   "execution_count": 3,
   "id": "5d80d884",
   "metadata": {},
   "outputs": [],
   "source": [
    "result = dict()\n"
   ]
  },
  {
   "cell_type": "markdown",
   "id": "b008208d",
   "metadata": {},
   "source": [
    "מידע ראשוני (שורות \\ עמודות)"
   ]
  },
  {
   "cell_type": "code",
   "execution_count": 4,
   "id": "63588d4d",
   "metadata": {},
   "outputs": [
    {
     "data": {
      "text/plain": [
       "(6941, 6)"
      ]
     },
     "execution_count": 4,
     "metadata": {},
     "output_type": "execute_result"
    }
   ],
   "source": [
    "df.shape\n"
   ]
  },
  {
   "cell_type": "markdown",
   "id": "df5bda59",
   "metadata": {},
   "source": [
    "מידע נוסף\n",
    "האם יש שורות עם מידע חסר\n",
    "שמות העמודות וכד'"
   ]
  },
  {
   "cell_type": "code",
   "execution_count": 5,
   "id": "0d18703b",
   "metadata": {},
   "outputs": [
    {
     "name": "stdout",
     "output_type": "stream",
     "text": [
      "<class 'pandas.core.frame.DataFrame'>\n",
      "RangeIndex: 6941 entries, 0 to 6940\n",
      "Data columns (total 6 columns):\n",
      " #   Column      Non-Null Count  Dtype \n",
      "---  ------      --------------  ----- \n",
      " 0   TweetID     6941 non-null   int64 \n",
      " 1   Username    6941 non-null   object\n",
      " 2   Text        6941 non-null   object\n",
      " 3   CreateDate  6941 non-null   object\n",
      " 4   Biased      6941 non-null   int64 \n",
      " 5   Keyword     6941 non-null   object\n",
      "dtypes: int64(2), object(4)\n",
      "memory usage: 325.5+ KB\n"
     ]
    }
   ],
   "source": [
    "df.info()\n"
   ]
  },
  {
   "cell_type": "markdown",
   "id": "fc35cf93",
   "metadata": {},
   "source": [
    "צפיה ב10 השורות האשונות"
   ]
  },
  {
   "cell_type": "code",
   "execution_count": 6,
   "id": "edb0b0d4",
   "metadata": {},
   "outputs": [
    {
     "data": {
      "application/vnd.microsoft.datawrangler.viewer.v0+json": {
       "columns": [
        {
         "name": "index",
         "rawType": "int64",
         "type": "integer"
        },
        {
         "name": "TweetID",
         "rawType": "int64",
         "type": "integer"
        },
        {
         "name": "Username",
         "rawType": "object",
         "type": "string"
        },
        {
         "name": "Text",
         "rawType": "object",
         "type": "string"
        },
        {
         "name": "CreateDate",
         "rawType": "object",
         "type": "string"
        },
        {
         "name": "Biased",
         "rawType": "int64",
         "type": "integer"
        },
        {
         "name": "Keyword",
         "rawType": "object",
         "type": "string"
        }
       ],
       "ref": "13d383ce-727b-4188-aee2-7c41311ac54b",
       "rows": [
        [
         "0",
         "1228740093357092865",
         "Celtic_Films",
         "AIPAC should be registered as a foreign agent meddling in US elections.American Israel Political Action Committee.\n\nIt is interfering in the US electoral process and should be put on trial and it's leaders imprisoned.  @benshapiro @charliekirk11 https://t.co/ebO4iPUah8",
         "2020-02-15 17:57:21+00:00",
         "1",
         "Israel"
        ],
        [
         "1",
         "1239547900012589056",
         "zariths__",
         "RT @qiss0rkid: go to israel pls , we don't need you",
         "2020-03-16 13:43:43+00:00",
         "1",
         "Israel"
        ],
        [
         "2",
         "1216559517887954945",
         "kelownascott",
         "The world, including Canada, has given Israel a green light to take Palestinian land, destroy Palestinian homes, and strengthen a system of #Apartheid. Shame on us!",
         "2020-01-13 03:16:06+00:00",
         "1",
         "Israel"
        ],
        [
         "3",
         "1217123508754534400",
         "KeishaJake",
         "These children avoid walking over the US &amp; Israel flags. Supposedly, this is a generation which was taught to hate America &amp; Israel, but it is the opposite!\nIranians seek freedom, peace &amp; a dignified life unlike the oppressive Iranian regime.\nWHY IS THE MEDIA PRO IRAN REGIME??? https://t.co/ym3Zt8jlfy",
         "2020-01-14 16:37:12+00:00",
         "0",
         "Israel"
        ],
        [
         "4",
         "1232258532273090560",
         "amit2nirvana",
         "RT @IDF: The last 24 hours in Israel: https://t.co/0YNwvMsYvL",
         "2020-02-25 10:58:23+00:00",
         "0",
         "Israel"
        ],
        [
         "5",
         "1224025761092448257",
         "NinjaAlex420",
         "@stranahan KnowMoreNews isn't confident enough to debate me that Jesuits control Israel not Jews https://t.co/rAFfEKOsLo",
         "2020-02-02 17:44:17+00:00",
         "0",
         "Israel"
        ],
        [
         "6",
         "1242382710561107969",
         "SevenShepherd",
         "\"[Even] an heritage unto Israel his servant: for his mercy [endureth] for ever.\" ~Psalms 136:22 #Bible #Poetry #God",
         "2020-03-24 09:28:15+00:00",
         "0",
         "Israel"
        ],
        [
         "7",
         "1224677205306818561",
         "MGSheikh8",
         "Opinion: No One in Israel Knew They Were Committing a Massacre, and They Didn't Care\n\nGideon Levy\nhttps://t.co/2Itgo9cuTE",
         "2020-02-04 12:52:53+00:00",
         "0",
         "Israel"
        ],
        [
         "8",
         "1214278369338109953",
         "elianebis1",
         "https://t.co/LTB0zidzM9 When #TheCloudOfGod appeared in the days of Moses,  He took the children of Israel from Egypt to the Canaan through tremendous judgement of the Egyptians. GOD is coming back to judge SIN again.",
         "2020-01-06 20:11:38+00:00",
         "0",
         "Israel"
        ],
        [
         "9",
         "1239732209872928768",
         "RabbiShmuley",
         "Smokers appear to be at higher risk from coronavirus - expert | The Times of Israel https://t.co/HgKQ8M7cJr",
         "2020-03-17 01:56:06+00:00",
         "0",
         "Israel"
        ]
       ],
       "shape": {
        "columns": 6,
        "rows": 10
       }
      },
      "text/html": [
       "<div>\n",
       "<style scoped>\n",
       "    .dataframe tbody tr th:only-of-type {\n",
       "        vertical-align: middle;\n",
       "    }\n",
       "\n",
       "    .dataframe tbody tr th {\n",
       "        vertical-align: top;\n",
       "    }\n",
       "\n",
       "    .dataframe thead th {\n",
       "        text-align: right;\n",
       "    }\n",
       "</style>\n",
       "<table border=\"1\" class=\"dataframe\">\n",
       "  <thead>\n",
       "    <tr style=\"text-align: right;\">\n",
       "      <th></th>\n",
       "      <th>TweetID</th>\n",
       "      <th>Username</th>\n",
       "      <th>Text</th>\n",
       "      <th>CreateDate</th>\n",
       "      <th>Biased</th>\n",
       "      <th>Keyword</th>\n",
       "    </tr>\n",
       "  </thead>\n",
       "  <tbody>\n",
       "    <tr>\n",
       "      <th>0</th>\n",
       "      <td>1228740093357092865</td>\n",
       "      <td>Celtic_Films</td>\n",
       "      <td>AIPAC should be registered as a foreign agent ...</td>\n",
       "      <td>2020-02-15 17:57:21+00:00</td>\n",
       "      <td>1</td>\n",
       "      <td>Israel</td>\n",
       "    </tr>\n",
       "    <tr>\n",
       "      <th>1</th>\n",
       "      <td>1239547900012589056</td>\n",
       "      <td>zariths__</td>\n",
       "      <td>RT @qiss0rkid: go to israel pls , we don't nee...</td>\n",
       "      <td>2020-03-16 13:43:43+00:00</td>\n",
       "      <td>1</td>\n",
       "      <td>Israel</td>\n",
       "    </tr>\n",
       "    <tr>\n",
       "      <th>2</th>\n",
       "      <td>1216559517887954945</td>\n",
       "      <td>kelownascott</td>\n",
       "      <td>The world, including Canada, has given Israel ...</td>\n",
       "      <td>2020-01-13 03:16:06+00:00</td>\n",
       "      <td>1</td>\n",
       "      <td>Israel</td>\n",
       "    </tr>\n",
       "    <tr>\n",
       "      <th>3</th>\n",
       "      <td>1217123508754534400</td>\n",
       "      <td>KeishaJake</td>\n",
       "      <td>These children avoid walking over the US &amp;amp;...</td>\n",
       "      <td>2020-01-14 16:37:12+00:00</td>\n",
       "      <td>0</td>\n",
       "      <td>Israel</td>\n",
       "    </tr>\n",
       "    <tr>\n",
       "      <th>4</th>\n",
       "      <td>1232258532273090560</td>\n",
       "      <td>amit2nirvana</td>\n",
       "      <td>RT @IDF: The last 24 hours in Israel: https://...</td>\n",
       "      <td>2020-02-25 10:58:23+00:00</td>\n",
       "      <td>0</td>\n",
       "      <td>Israel</td>\n",
       "    </tr>\n",
       "    <tr>\n",
       "      <th>5</th>\n",
       "      <td>1224025761092448257</td>\n",
       "      <td>NinjaAlex420</td>\n",
       "      <td>@stranahan KnowMoreNews isn't confident enough...</td>\n",
       "      <td>2020-02-02 17:44:17+00:00</td>\n",
       "      <td>0</td>\n",
       "      <td>Israel</td>\n",
       "    </tr>\n",
       "    <tr>\n",
       "      <th>6</th>\n",
       "      <td>1242382710561107969</td>\n",
       "      <td>SevenShepherd</td>\n",
       "      <td>\"[Even] an heritage unto Israel his servant: f...</td>\n",
       "      <td>2020-03-24 09:28:15+00:00</td>\n",
       "      <td>0</td>\n",
       "      <td>Israel</td>\n",
       "    </tr>\n",
       "    <tr>\n",
       "      <th>7</th>\n",
       "      <td>1224677205306818561</td>\n",
       "      <td>MGSheikh8</td>\n",
       "      <td>Opinion: No One in Israel Knew They Were Commi...</td>\n",
       "      <td>2020-02-04 12:52:53+00:00</td>\n",
       "      <td>0</td>\n",
       "      <td>Israel</td>\n",
       "    </tr>\n",
       "    <tr>\n",
       "      <th>8</th>\n",
       "      <td>1214278369338109953</td>\n",
       "      <td>elianebis1</td>\n",
       "      <td>https://t.co/LTB0zidzM9 When #TheCloudOfGod ap...</td>\n",
       "      <td>2020-01-06 20:11:38+00:00</td>\n",
       "      <td>0</td>\n",
       "      <td>Israel</td>\n",
       "    </tr>\n",
       "    <tr>\n",
       "      <th>9</th>\n",
       "      <td>1239732209872928768</td>\n",
       "      <td>RabbiShmuley</td>\n",
       "      <td>Smokers appear to be at higher risk from coron...</td>\n",
       "      <td>2020-03-17 01:56:06+00:00</td>\n",
       "      <td>0</td>\n",
       "      <td>Israel</td>\n",
       "    </tr>\n",
       "  </tbody>\n",
       "</table>\n",
       "</div>"
      ],
      "text/plain": [
       "               TweetID       Username  \\\n",
       "0  1228740093357092865   Celtic_Films   \n",
       "1  1239547900012589056      zariths__   \n",
       "2  1216559517887954945   kelownascott   \n",
       "3  1217123508754534400     KeishaJake   \n",
       "4  1232258532273090560   amit2nirvana   \n",
       "5  1224025761092448257   NinjaAlex420   \n",
       "6  1242382710561107969  SevenShepherd   \n",
       "7  1224677205306818561      MGSheikh8   \n",
       "8  1214278369338109953     elianebis1   \n",
       "9  1239732209872928768   RabbiShmuley   \n",
       "\n",
       "                                                Text  \\\n",
       "0  AIPAC should be registered as a foreign agent ...   \n",
       "1  RT @qiss0rkid: go to israel pls , we don't nee...   \n",
       "2  The world, including Canada, has given Israel ...   \n",
       "3  These children avoid walking over the US &amp;...   \n",
       "4  RT @IDF: The last 24 hours in Israel: https://...   \n",
       "5  @stranahan KnowMoreNews isn't confident enough...   \n",
       "6  \"[Even] an heritage unto Israel his servant: f...   \n",
       "7  Opinion: No One in Israel Knew They Were Commi...   \n",
       "8  https://t.co/LTB0zidzM9 When #TheCloudOfGod ap...   \n",
       "9  Smokers appear to be at higher risk from coron...   \n",
       "\n",
       "                  CreateDate  Biased Keyword  \n",
       "0  2020-02-15 17:57:21+00:00       1  Israel  \n",
       "1  2020-03-16 13:43:43+00:00       1  Israel  \n",
       "2  2020-01-13 03:16:06+00:00       1  Israel  \n",
       "3  2020-01-14 16:37:12+00:00       0  Israel  \n",
       "4  2020-02-25 10:58:23+00:00       0  Israel  \n",
       "5  2020-02-02 17:44:17+00:00       0  Israel  \n",
       "6  2020-03-24 09:28:15+00:00       0  Israel  \n",
       "7  2020-02-04 12:52:53+00:00       0  Israel  \n",
       "8  2020-01-06 20:11:38+00:00       0  Israel  \n",
       "9  2020-03-17 01:56:06+00:00       0  Israel  "
      ]
     },
     "execution_count": 6,
     "metadata": {},
     "output_type": "execute_result"
    }
   ],
   "source": [
    "df.head(10)\n"
   ]
  },
  {
   "cell_type": "markdown",
   "id": "52da9146",
   "metadata": {},
   "source": [
    "צפיה ב10 השורות האחרונות"
   ]
  },
  {
   "cell_type": "code",
   "execution_count": 7,
   "id": "7ba02f3e",
   "metadata": {},
   "outputs": [
    {
     "data": {
      "application/vnd.microsoft.datawrangler.viewer.v0+json": {
       "columns": [
        {
         "name": "index",
         "rawType": "int64",
         "type": "integer"
        },
        {
         "name": "TweetID",
         "rawType": "int64",
         "type": "integer"
        },
        {
         "name": "Username",
         "rawType": "object",
         "type": "string"
        },
        {
         "name": "Text",
         "rawType": "object",
         "type": "string"
        },
        {
         "name": "CreateDate",
         "rawType": "object",
         "type": "string"
        },
        {
         "name": "Biased",
         "rawType": "int64",
         "type": "integer"
        },
        {
         "name": "Keyword",
         "rawType": "object",
         "type": "string"
        }
       ],
       "ref": "67e9ef42-6849-48ad-aad0-d8eb5b742c8f",
       "rows": [
        [
         "6931",
         "1237617282827857920",
         "360CNN",
         "Since the Zionazi's block medical supplies going in to the State of Palestine and specifically GAZA, how is it that the  https://t.co/Sl0JOXWECF",
         "2020-03-11 05:52:08+00:00",
         "1",
         "ZioNazi"
        ],
        [
         "6932",
         "1240451827465891841",
         "CoelecanthJ",
         "Ilhan faced as much hate from zionazis in her own party as in the republicans. For her to extend the hand at a time like this shows she has more balls then every bipartisan cuck combined",
         "2020-03-19 01:35:36+00:00",
         "1",
         "ZioNazi"
        ],
        [
         "6933",
         "1240753870206152704",
         "laotraneta",
         "@domenictiso4 @RightWingWatch Jewchristian zionazis sects!",
         "2020-03-19 21:35:49+00:00",
         "1",
         "ZioNazi"
        ],
        [
         "6934",
         "1240883925096030208",
         "Futatimbo",
         "@IvankaTrump A zionazists Jews.",
         "2020-03-20 06:12:36+00:00",
         "1",
         "ZioNazi"
        ],
        [
         "6935",
         "1241091821645844480",
         "Futatimbo",
         "Mr. President, I this year you will lead the Iranian nation to build the Nuclear bomb ??. If they zionazists continue to throw sanctions at your country you might as well build the bomb.",
         "2020-03-20 19:58:43+00:00",
         "1",
         "ZioNazi"
        ],
        [
         "6936",
         "1241770877336711168",
         "CitizenJane99",
         "\"Use your socks as face masks\"\n   Zionazi Israeli jailers to their Palestinian prisoners",
         "2020-03-22 16:57:02+00:00",
         "1",
         "ZioNazi"
        ],
        [
         "6937",
         "1241902809592803328",
         "CHUCK_1967",
         "THE GREAT DEPRESSION. THESE ZIONAZI JEWS AND THEIR COLLABORATORS AND CONSPIRATORS WERE THE ONES THAT DID IT ALL.",
         "2020-03-23 01:41:17+00:00",
         "1",
         "ZioNazi"
        ],
        [
         "6938",
         "1243432780127707136",
         "FeralGlance10",
         "@parislees @irisstylosa Not when it's run by blairites and Zionazis.",
         "2020-03-27 07:00:51+00:00",
         "1",
         "ZioNazi"
        ],
        [
         "6939",
         "1244685065470107648",
         "Nables_S",
         "@wherepond @Tibou12379939 @JuanCalosoooooo @parallelpond This Zionazi criminal is the most wanted terrorist on earth .",
         "2020-03-30 17:56:59+00:00",
         "1",
         "ZioNazi"
        ],
        [
         "6940",
         "1244973868936130560",
         "Zencali",
         "RT @Nables_S: @wherepond @Tibou12379939 @JuanCalosoooooo @parallelpond This Zionazi criminal is the most wanted terrorist on earth .",
         "2020-03-31 13:04:35+00:00",
         "1",
         "ZioNazi"
        ]
       ],
       "shape": {
        "columns": 6,
        "rows": 10
       }
      },
      "text/html": [
       "<div>\n",
       "<style scoped>\n",
       "    .dataframe tbody tr th:only-of-type {\n",
       "        vertical-align: middle;\n",
       "    }\n",
       "\n",
       "    .dataframe tbody tr th {\n",
       "        vertical-align: top;\n",
       "    }\n",
       "\n",
       "    .dataframe thead th {\n",
       "        text-align: right;\n",
       "    }\n",
       "</style>\n",
       "<table border=\"1\" class=\"dataframe\">\n",
       "  <thead>\n",
       "    <tr style=\"text-align: right;\">\n",
       "      <th></th>\n",
       "      <th>TweetID</th>\n",
       "      <th>Username</th>\n",
       "      <th>Text</th>\n",
       "      <th>CreateDate</th>\n",
       "      <th>Biased</th>\n",
       "      <th>Keyword</th>\n",
       "    </tr>\n",
       "  </thead>\n",
       "  <tbody>\n",
       "    <tr>\n",
       "      <th>6931</th>\n",
       "      <td>1237617282827857920</td>\n",
       "      <td>360CNN</td>\n",
       "      <td>Since the Zionazi's block medical supplies goi...</td>\n",
       "      <td>2020-03-11 05:52:08+00:00</td>\n",
       "      <td>1</td>\n",
       "      <td>ZioNazi</td>\n",
       "    </tr>\n",
       "    <tr>\n",
       "      <th>6932</th>\n",
       "      <td>1240451827465891841</td>\n",
       "      <td>CoelecanthJ</td>\n",
       "      <td>Ilhan faced as much hate from zionazis in her ...</td>\n",
       "      <td>2020-03-19 01:35:36+00:00</td>\n",
       "      <td>1</td>\n",
       "      <td>ZioNazi</td>\n",
       "    </tr>\n",
       "    <tr>\n",
       "      <th>6933</th>\n",
       "      <td>1240753870206152704</td>\n",
       "      <td>laotraneta</td>\n",
       "      <td>@domenictiso4 @RightWingWatch Jewchristian zio...</td>\n",
       "      <td>2020-03-19 21:35:49+00:00</td>\n",
       "      <td>1</td>\n",
       "      <td>ZioNazi</td>\n",
       "    </tr>\n",
       "    <tr>\n",
       "      <th>6934</th>\n",
       "      <td>1240883925096030208</td>\n",
       "      <td>Futatimbo</td>\n",
       "      <td>@IvankaTrump A zionazists Jews.</td>\n",
       "      <td>2020-03-20 06:12:36+00:00</td>\n",
       "      <td>1</td>\n",
       "      <td>ZioNazi</td>\n",
       "    </tr>\n",
       "    <tr>\n",
       "      <th>6935</th>\n",
       "      <td>1241091821645844480</td>\n",
       "      <td>Futatimbo</td>\n",
       "      <td>Mr. President, I this year you will lead the I...</td>\n",
       "      <td>2020-03-20 19:58:43+00:00</td>\n",
       "      <td>1</td>\n",
       "      <td>ZioNazi</td>\n",
       "    </tr>\n",
       "    <tr>\n",
       "      <th>6936</th>\n",
       "      <td>1241770877336711168</td>\n",
       "      <td>CitizenJane99</td>\n",
       "      <td>\"Use your socks as face masks\"\\n   Zionazi Isr...</td>\n",
       "      <td>2020-03-22 16:57:02+00:00</td>\n",
       "      <td>1</td>\n",
       "      <td>ZioNazi</td>\n",
       "    </tr>\n",
       "    <tr>\n",
       "      <th>6937</th>\n",
       "      <td>1241902809592803328</td>\n",
       "      <td>CHUCK_1967</td>\n",
       "      <td>THE GREAT DEPRESSION. THESE ZIONAZI JEWS AND T...</td>\n",
       "      <td>2020-03-23 01:41:17+00:00</td>\n",
       "      <td>1</td>\n",
       "      <td>ZioNazi</td>\n",
       "    </tr>\n",
       "    <tr>\n",
       "      <th>6938</th>\n",
       "      <td>1243432780127707136</td>\n",
       "      <td>FeralGlance10</td>\n",
       "      <td>@parislees @irisstylosa Not when it's run by b...</td>\n",
       "      <td>2020-03-27 07:00:51+00:00</td>\n",
       "      <td>1</td>\n",
       "      <td>ZioNazi</td>\n",
       "    </tr>\n",
       "    <tr>\n",
       "      <th>6939</th>\n",
       "      <td>1244685065470107648</td>\n",
       "      <td>Nables_S</td>\n",
       "      <td>@wherepond @Tibou12379939 @JuanCalosoooooo @pa...</td>\n",
       "      <td>2020-03-30 17:56:59+00:00</td>\n",
       "      <td>1</td>\n",
       "      <td>ZioNazi</td>\n",
       "    </tr>\n",
       "    <tr>\n",
       "      <th>6940</th>\n",
       "      <td>1244973868936130560</td>\n",
       "      <td>Zencali</td>\n",
       "      <td>RT @Nables_S: @wherepond @Tibou12379939 @JuanC...</td>\n",
       "      <td>2020-03-31 13:04:35+00:00</td>\n",
       "      <td>1</td>\n",
       "      <td>ZioNazi</td>\n",
       "    </tr>\n",
       "  </tbody>\n",
       "</table>\n",
       "</div>"
      ],
      "text/plain": [
       "                  TweetID       Username  \\\n",
       "6931  1237617282827857920         360CNN   \n",
       "6932  1240451827465891841    CoelecanthJ   \n",
       "6933  1240753870206152704     laotraneta   \n",
       "6934  1240883925096030208      Futatimbo   \n",
       "6935  1241091821645844480      Futatimbo   \n",
       "6936  1241770877336711168  CitizenJane99   \n",
       "6937  1241902809592803328     CHUCK_1967   \n",
       "6938  1243432780127707136  FeralGlance10   \n",
       "6939  1244685065470107648       Nables_S   \n",
       "6940  1244973868936130560        Zencali   \n",
       "\n",
       "                                                   Text  \\\n",
       "6931  Since the Zionazi's block medical supplies goi...   \n",
       "6932  Ilhan faced as much hate from zionazis in her ...   \n",
       "6933  @domenictiso4 @RightWingWatch Jewchristian zio...   \n",
       "6934                    @IvankaTrump A zionazists Jews.   \n",
       "6935  Mr. President, I this year you will lead the I...   \n",
       "6936  \"Use your socks as face masks\"\\n   Zionazi Isr...   \n",
       "6937  THE GREAT DEPRESSION. THESE ZIONAZI JEWS AND T...   \n",
       "6938  @parislees @irisstylosa Not when it's run by b...   \n",
       "6939  @wherepond @Tibou12379939 @JuanCalosoooooo @pa...   \n",
       "6940  RT @Nables_S: @wherepond @Tibou12379939 @JuanC...   \n",
       "\n",
       "                     CreateDate  Biased  Keyword  \n",
       "6931  2020-03-11 05:52:08+00:00       1  ZioNazi  \n",
       "6932  2020-03-19 01:35:36+00:00       1  ZioNazi  \n",
       "6933  2020-03-19 21:35:49+00:00       1  ZioNazi  \n",
       "6934  2020-03-20 06:12:36+00:00       1  ZioNazi  \n",
       "6935  2020-03-20 19:58:43+00:00       1  ZioNazi  \n",
       "6936  2020-03-22 16:57:02+00:00       1  ZioNazi  \n",
       "6937  2020-03-23 01:41:17+00:00       1  ZioNazi  \n",
       "6938  2020-03-27 07:00:51+00:00       1  ZioNazi  \n",
       "6939  2020-03-30 17:56:59+00:00       1  ZioNazi  \n",
       "6940  2020-03-31 13:04:35+00:00       1  ZioNazi  "
      ]
     },
     "execution_count": 7,
     "metadata": {},
     "output_type": "execute_result"
    }
   ],
   "source": [
    "df.tail(10)\n"
   ]
  },
  {
   "cell_type": "markdown",
   "id": "2d912845",
   "metadata": {},
   "source": [
    "כמות מכל סוג"
   ]
  },
  {
   "cell_type": "code",
   "execution_count": 8,
   "id": "00f194f8",
   "metadata": {},
   "outputs": [
    {
     "data": {
      "application/vnd.microsoft.datawrangler.viewer.v0+json": {
       "columns": [
        {
         "name": "Biased",
         "rawType": "int64",
         "type": "integer"
        },
        {
         "name": "count",
         "rawType": "int64",
         "type": "integer"
        }
       ],
       "ref": "3c4fa139-09ac-40ac-8870-c7e6653d5fc3",
       "rows": [
        [
         "0",
         "5691"
        ],
        [
         "1",
         "1250"
        ]
       ],
       "shape": {
        "columns": 1,
        "rows": 2
       }
      },
      "text/plain": [
       "Biased\n",
       "0    5691\n",
       "1    1250\n",
       "Name: count, dtype: int64"
      ]
     },
     "execution_count": 8,
     "metadata": {},
     "output_type": "execute_result"
    }
   ],
   "source": [
    "df.Biased.value_counts()\n"
   ]
  },
  {
   "cell_type": "markdown",
   "id": "cfb24cff",
   "metadata": {},
   "source": [
    "חלוקת הציוצים לליסט"
   ]
  },
  {
   "cell_type": "code",
   "execution_count": 9,
   "id": "cc7f6394",
   "metadata": {},
   "outputs": [
    {
     "data": {
      "application/vnd.microsoft.datawrangler.viewer.v0+json": {
       "columns": [
        {
         "name": "index",
         "rawType": "int64",
         "type": "integer"
        },
        {
         "name": "TweetID",
         "rawType": "int64",
         "type": "integer"
        },
        {
         "name": "Username",
         "rawType": "object",
         "type": "string"
        },
        {
         "name": "Text",
         "rawType": "object",
         "type": "string"
        },
        {
         "name": "CreateDate",
         "rawType": "object",
         "type": "string"
        },
        {
         "name": "Biased",
         "rawType": "int64",
         "type": "integer"
        },
        {
         "name": "Keyword",
         "rawType": "object",
         "type": "string"
        },
        {
         "name": "word_list",
         "rawType": "object",
         "type": "unknown"
        }
       ],
       "ref": "aeaace02-34e0-4665-9019-03205da8ad84",
       "rows": [
        [
         "0",
         "1228740093357092865",
         "Celtic_Films",
         "AIPAC should be registered as a foreign agent meddling in US elections.American Israel Political Action Committee.\n\nIt is interfering in the US electoral process and should be put on trial and it's leaders imprisoned.  @benshapiro @charliekirk11 https://t.co/ebO4iPUah8",
         "2020-02-15 17:57:21+00:00",
         "1",
         "Israel",
         "['AIPAC', 'should', 'be', 'registered', 'as', 'a', 'foreign', 'agent', 'meddling', 'in', 'US', 'elections.American', 'Israel', 'Political', 'Action', 'Committee.', 'It', 'is', 'interfering', 'in', 'the', 'US', 'electoral', 'process', 'and', 'should', 'be', 'put', 'on', 'trial', 'and', \"it's\", 'leaders', 'imprisoned.', '@benshapiro', '@charliekirk11', 'https://t.co/ebO4iPUah8']"
        ],
        [
         "1",
         "1239547900012589056",
         "zariths__",
         "RT @qiss0rkid: go to israel pls , we don't need you",
         "2020-03-16 13:43:43+00:00",
         "1",
         "Israel",
         "['RT', '@qiss0rkid:', 'go', 'to', 'israel', 'pls', ',', 'we', \"don't\", 'need', 'you']"
        ],
        [
         "2",
         "1216559517887954945",
         "kelownascott",
         "The world, including Canada, has given Israel a green light to take Palestinian land, destroy Palestinian homes, and strengthen a system of #Apartheid. Shame on us!",
         "2020-01-13 03:16:06+00:00",
         "1",
         "Israel",
         "['The', 'world,', 'including', 'Canada,', 'has', 'given', 'Israel', 'a', 'green', 'light', 'to', 'take', 'Palestinian', 'land,', 'destroy', 'Palestinian', 'homes,', 'and', 'strengthen', 'a', 'system', 'of', '#Apartheid.', 'Shame', 'on', 'us!']"
        ],
        [
         "3",
         "1217123508754534400",
         "KeishaJake",
         "These children avoid walking over the US &amp; Israel flags. Supposedly, this is a generation which was taught to hate America &amp; Israel, but it is the opposite!\nIranians seek freedom, peace &amp; a dignified life unlike the oppressive Iranian regime.\nWHY IS THE MEDIA PRO IRAN REGIME??? https://t.co/ym3Zt8jlfy",
         "2020-01-14 16:37:12+00:00",
         "0",
         "Israel",
         "['These', 'children', 'avoid', 'walking', 'over', 'the', 'US', '&amp;', 'Israel', 'flags.', 'Supposedly,', 'this', 'is', 'a', 'generation', 'which', 'was', 'taught', 'to', 'hate', 'America', '&amp;', 'Israel,', 'but', 'it', 'is', 'the', 'opposite!', 'Iranians', 'seek', 'freedom,', 'peace', '&amp;', 'a', 'dignified', 'life', 'unlike', 'the', 'oppressive', 'Iranian', 'regime.', 'WHY', 'IS', 'THE', 'MEDIA', 'PRO', 'IRAN', 'REGIME???', 'https://t.co/ym3Zt8jlfy']"
        ],
        [
         "4",
         "1232258532273090560",
         "amit2nirvana",
         "RT @IDF: The last 24 hours in Israel: https://t.co/0YNwvMsYvL",
         "2020-02-25 10:58:23+00:00",
         "0",
         "Israel",
         "['RT', '@IDF:', 'The', 'last', '24', 'hours', 'in', 'Israel:', 'https://t.co/0YNwvMsYvL']"
        ],
        [
         "5",
         "1224025761092448257",
         "NinjaAlex420",
         "@stranahan KnowMoreNews isn't confident enough to debate me that Jesuits control Israel not Jews https://t.co/rAFfEKOsLo",
         "2020-02-02 17:44:17+00:00",
         "0",
         "Israel",
         "['@stranahan', 'KnowMoreNews', \"isn't\", 'confident', 'enough', 'to', 'debate', 'me', 'that', 'Jesuits', 'control', 'Israel', 'not', 'Jews', 'https://t.co/rAFfEKOsLo']"
        ],
        [
         "6",
         "1242382710561107969",
         "SevenShepherd",
         "\"[Even] an heritage unto Israel his servant: for his mercy [endureth] for ever.\" ~Psalms 136:22 #Bible #Poetry #God",
         "2020-03-24 09:28:15+00:00",
         "0",
         "Israel",
         "['\"[Even]', 'an', 'heritage', 'unto', 'Israel', 'his', 'servant:', 'for', 'his', 'mercy', '[endureth]', 'for', 'ever.\"', '~Psalms', '136:22', '#Bible', '#Poetry', '#God']"
        ],
        [
         "7",
         "1224677205306818561",
         "MGSheikh8",
         "Opinion: No One in Israel Knew They Were Committing a Massacre, and They Didn't Care\n\nGideon Levy\nhttps://t.co/2Itgo9cuTE",
         "2020-02-04 12:52:53+00:00",
         "0",
         "Israel",
         "['Opinion:', 'No', 'One', 'in', 'Israel', 'Knew', 'They', 'Were', 'Committing', 'a', 'Massacre,', 'and', 'They', \"Didn't\", 'Care', 'Gideon', 'Levy', 'https://t.co/2Itgo9cuTE']"
        ],
        [
         "8",
         "1214278369338109953",
         "elianebis1",
         "https://t.co/LTB0zidzM9 When #TheCloudOfGod appeared in the days of Moses,  He took the children of Israel from Egypt to the Canaan through tremendous judgement of the Egyptians. GOD is coming back to judge SIN again.",
         "2020-01-06 20:11:38+00:00",
         "0",
         "Israel",
         "['https://t.co/LTB0zidzM9', 'When', '#TheCloudOfGod', 'appeared', 'in', 'the', 'days', 'of', 'Moses,', 'He', 'took', 'the', 'children', 'of', 'Israel', 'from', 'Egypt', 'to', 'the', 'Canaan', 'through', 'tremendous', 'judgement', 'of', 'the', 'Egyptians.', 'GOD', 'is', 'coming', 'back', 'to', 'judge', 'SIN', 'again.']"
        ],
        [
         "9",
         "1239732209872928768",
         "RabbiShmuley",
         "Smokers appear to be at higher risk from coronavirus - expert | The Times of Israel https://t.co/HgKQ8M7cJr",
         "2020-03-17 01:56:06+00:00",
         "0",
         "Israel",
         "['Smokers', 'appear', 'to', 'be', 'at', 'higher', 'risk', 'from', 'coronavirus', '-', 'expert', '|', 'The', 'Times', 'of', 'Israel', 'https://t.co/HgKQ8M7cJr']"
        ]
       ],
       "shape": {
        "columns": 7,
        "rows": 10
       }
      },
      "text/html": [
       "<div>\n",
       "<style scoped>\n",
       "    .dataframe tbody tr th:only-of-type {\n",
       "        vertical-align: middle;\n",
       "    }\n",
       "\n",
       "    .dataframe tbody tr th {\n",
       "        vertical-align: top;\n",
       "    }\n",
       "\n",
       "    .dataframe thead th {\n",
       "        text-align: right;\n",
       "    }\n",
       "</style>\n",
       "<table border=\"1\" class=\"dataframe\">\n",
       "  <thead>\n",
       "    <tr style=\"text-align: right;\">\n",
       "      <th></th>\n",
       "      <th>TweetID</th>\n",
       "      <th>Username</th>\n",
       "      <th>Text</th>\n",
       "      <th>CreateDate</th>\n",
       "      <th>Biased</th>\n",
       "      <th>Keyword</th>\n",
       "      <th>word_list</th>\n",
       "    </tr>\n",
       "  </thead>\n",
       "  <tbody>\n",
       "    <tr>\n",
       "      <th>0</th>\n",
       "      <td>1228740093357092865</td>\n",
       "      <td>Celtic_Films</td>\n",
       "      <td>AIPAC should be registered as a foreign agent ...</td>\n",
       "      <td>2020-02-15 17:57:21+00:00</td>\n",
       "      <td>1</td>\n",
       "      <td>Israel</td>\n",
       "      <td>[AIPAC, should, be, registered, as, a, foreign...</td>\n",
       "    </tr>\n",
       "    <tr>\n",
       "      <th>1</th>\n",
       "      <td>1239547900012589056</td>\n",
       "      <td>zariths__</td>\n",
       "      <td>RT @qiss0rkid: go to israel pls , we don't nee...</td>\n",
       "      <td>2020-03-16 13:43:43+00:00</td>\n",
       "      <td>1</td>\n",
       "      <td>Israel</td>\n",
       "      <td>[RT, @qiss0rkid:, go, to, israel, pls, ,, we, ...</td>\n",
       "    </tr>\n",
       "    <tr>\n",
       "      <th>2</th>\n",
       "      <td>1216559517887954945</td>\n",
       "      <td>kelownascott</td>\n",
       "      <td>The world, including Canada, has given Israel ...</td>\n",
       "      <td>2020-01-13 03:16:06+00:00</td>\n",
       "      <td>1</td>\n",
       "      <td>Israel</td>\n",
       "      <td>[The, world,, including, Canada,, has, given, ...</td>\n",
       "    </tr>\n",
       "    <tr>\n",
       "      <th>3</th>\n",
       "      <td>1217123508754534400</td>\n",
       "      <td>KeishaJake</td>\n",
       "      <td>These children avoid walking over the US &amp;amp;...</td>\n",
       "      <td>2020-01-14 16:37:12+00:00</td>\n",
       "      <td>0</td>\n",
       "      <td>Israel</td>\n",
       "      <td>[These, children, avoid, walking, over, the, U...</td>\n",
       "    </tr>\n",
       "    <tr>\n",
       "      <th>4</th>\n",
       "      <td>1232258532273090560</td>\n",
       "      <td>amit2nirvana</td>\n",
       "      <td>RT @IDF: The last 24 hours in Israel: https://...</td>\n",
       "      <td>2020-02-25 10:58:23+00:00</td>\n",
       "      <td>0</td>\n",
       "      <td>Israel</td>\n",
       "      <td>[RT, @IDF:, The, last, 24, hours, in, Israel:,...</td>\n",
       "    </tr>\n",
       "    <tr>\n",
       "      <th>5</th>\n",
       "      <td>1224025761092448257</td>\n",
       "      <td>NinjaAlex420</td>\n",
       "      <td>@stranahan KnowMoreNews isn't confident enough...</td>\n",
       "      <td>2020-02-02 17:44:17+00:00</td>\n",
       "      <td>0</td>\n",
       "      <td>Israel</td>\n",
       "      <td>[@stranahan, KnowMoreNews, isn't, confident, e...</td>\n",
       "    </tr>\n",
       "    <tr>\n",
       "      <th>6</th>\n",
       "      <td>1242382710561107969</td>\n",
       "      <td>SevenShepherd</td>\n",
       "      <td>\"[Even] an heritage unto Israel his servant: f...</td>\n",
       "      <td>2020-03-24 09:28:15+00:00</td>\n",
       "      <td>0</td>\n",
       "      <td>Israel</td>\n",
       "      <td>[\"[Even], an, heritage, unto, Israel, his, ser...</td>\n",
       "    </tr>\n",
       "    <tr>\n",
       "      <th>7</th>\n",
       "      <td>1224677205306818561</td>\n",
       "      <td>MGSheikh8</td>\n",
       "      <td>Opinion: No One in Israel Knew They Were Commi...</td>\n",
       "      <td>2020-02-04 12:52:53+00:00</td>\n",
       "      <td>0</td>\n",
       "      <td>Israel</td>\n",
       "      <td>[Opinion:, No, One, in, Israel, Knew, They, We...</td>\n",
       "    </tr>\n",
       "    <tr>\n",
       "      <th>8</th>\n",
       "      <td>1214278369338109953</td>\n",
       "      <td>elianebis1</td>\n",
       "      <td>https://t.co/LTB0zidzM9 When #TheCloudOfGod ap...</td>\n",
       "      <td>2020-01-06 20:11:38+00:00</td>\n",
       "      <td>0</td>\n",
       "      <td>Israel</td>\n",
       "      <td>[https://t.co/LTB0zidzM9, When, #TheCloudOfGod...</td>\n",
       "    </tr>\n",
       "    <tr>\n",
       "      <th>9</th>\n",
       "      <td>1239732209872928768</td>\n",
       "      <td>RabbiShmuley</td>\n",
       "      <td>Smokers appear to be at higher risk from coron...</td>\n",
       "      <td>2020-03-17 01:56:06+00:00</td>\n",
       "      <td>0</td>\n",
       "      <td>Israel</td>\n",
       "      <td>[Smokers, appear, to, be, at, higher, risk, fr...</td>\n",
       "    </tr>\n",
       "  </tbody>\n",
       "</table>\n",
       "</div>"
      ],
      "text/plain": [
       "               TweetID       Username  \\\n",
       "0  1228740093357092865   Celtic_Films   \n",
       "1  1239547900012589056      zariths__   \n",
       "2  1216559517887954945   kelownascott   \n",
       "3  1217123508754534400     KeishaJake   \n",
       "4  1232258532273090560   amit2nirvana   \n",
       "5  1224025761092448257   NinjaAlex420   \n",
       "6  1242382710561107969  SevenShepherd   \n",
       "7  1224677205306818561      MGSheikh8   \n",
       "8  1214278369338109953     elianebis1   \n",
       "9  1239732209872928768   RabbiShmuley   \n",
       "\n",
       "                                                Text  \\\n",
       "0  AIPAC should be registered as a foreign agent ...   \n",
       "1  RT @qiss0rkid: go to israel pls , we don't nee...   \n",
       "2  The world, including Canada, has given Israel ...   \n",
       "3  These children avoid walking over the US &amp;...   \n",
       "4  RT @IDF: The last 24 hours in Israel: https://...   \n",
       "5  @stranahan KnowMoreNews isn't confident enough...   \n",
       "6  \"[Even] an heritage unto Israel his servant: f...   \n",
       "7  Opinion: No One in Israel Knew They Were Commi...   \n",
       "8  https://t.co/LTB0zidzM9 When #TheCloudOfGod ap...   \n",
       "9  Smokers appear to be at higher risk from coron...   \n",
       "\n",
       "                  CreateDate  Biased Keyword  \\\n",
       "0  2020-02-15 17:57:21+00:00       1  Israel   \n",
       "1  2020-03-16 13:43:43+00:00       1  Israel   \n",
       "2  2020-01-13 03:16:06+00:00       1  Israel   \n",
       "3  2020-01-14 16:37:12+00:00       0  Israel   \n",
       "4  2020-02-25 10:58:23+00:00       0  Israel   \n",
       "5  2020-02-02 17:44:17+00:00       0  Israel   \n",
       "6  2020-03-24 09:28:15+00:00       0  Israel   \n",
       "7  2020-02-04 12:52:53+00:00       0  Israel   \n",
       "8  2020-01-06 20:11:38+00:00       0  Israel   \n",
       "9  2020-03-17 01:56:06+00:00       0  Israel   \n",
       "\n",
       "                                           word_list  \n",
       "0  [AIPAC, should, be, registered, as, a, foreign...  \n",
       "1  [RT, @qiss0rkid:, go, to, israel, pls, ,, we, ...  \n",
       "2  [The, world,, including, Canada,, has, given, ...  \n",
       "3  [These, children, avoid, walking, over, the, U...  \n",
       "4  [RT, @IDF:, The, last, 24, hours, in, Israel:,...  \n",
       "5  [@stranahan, KnowMoreNews, isn't, confident, e...  \n",
       "6  [\"[Even], an, heritage, unto, Israel, his, ser...  \n",
       "7  [Opinion:, No, One, in, Israel, Knew, They, We...  \n",
       "8  [https://t.co/LTB0zidzM9, When, #TheCloudOfGod...  \n",
       "9  [Smokers, appear, to, be, at, higher, risk, fr...  "
      ]
     },
     "execution_count": 9,
     "metadata": {},
     "output_type": "execute_result"
    }
   ],
   "source": [
    "df[\"word_list\"] = df[\"Text\"].map(lambda t: t.split())\n",
    "df.head(10)\n"
   ]
  },
  {
   "cell_type": "markdown",
   "id": "a8147034",
   "metadata": {},
   "source": [
    "הוספת כמות המילים לטור נוסף"
   ]
  },
  {
   "cell_type": "code",
   "execution_count": 10,
   "id": "1382ffc8",
   "metadata": {},
   "outputs": [
    {
     "data": {
      "application/vnd.microsoft.datawrangler.viewer.v0+json": {
       "columns": [
        {
         "name": "index",
         "rawType": "int64",
         "type": "integer"
        },
        {
         "name": "TweetID",
         "rawType": "int64",
         "type": "integer"
        },
        {
         "name": "Username",
         "rawType": "object",
         "type": "string"
        },
        {
         "name": "Text",
         "rawType": "object",
         "type": "string"
        },
        {
         "name": "CreateDate",
         "rawType": "object",
         "type": "string"
        },
        {
         "name": "Biased",
         "rawType": "int64",
         "type": "integer"
        },
        {
         "name": "Keyword",
         "rawType": "object",
         "type": "string"
        },
        {
         "name": "word_list",
         "rawType": "object",
         "type": "unknown"
        },
        {
         "name": "Word_count",
         "rawType": "int64",
         "type": "integer"
        }
       ],
       "ref": "3ef845f6-b8f4-4d7d-b1a3-b5712a60d118",
       "rows": [
        [
         "0",
         "1228740093357092865",
         "Celtic_Films",
         "AIPAC should be registered as a foreign agent meddling in US elections.American Israel Political Action Committee.\n\nIt is interfering in the US electoral process and should be put on trial and it's leaders imprisoned.  @benshapiro @charliekirk11 https://t.co/ebO4iPUah8",
         "2020-02-15 17:57:21+00:00",
         "1",
         "Israel",
         "['AIPAC', 'should', 'be', 'registered', 'as', 'a', 'foreign', 'agent', 'meddling', 'in', 'US', 'elections.American', 'Israel', 'Political', 'Action', 'Committee.', 'It', 'is', 'interfering', 'in', 'the', 'US', 'electoral', 'process', 'and', 'should', 'be', 'put', 'on', 'trial', 'and', \"it's\", 'leaders', 'imprisoned.', '@benshapiro', '@charliekirk11', 'https://t.co/ebO4iPUah8']",
         "37"
        ],
        [
         "1",
         "1239547900012589056",
         "zariths__",
         "RT @qiss0rkid: go to israel pls , we don't need you",
         "2020-03-16 13:43:43+00:00",
         "1",
         "Israel",
         "['RT', '@qiss0rkid:', 'go', 'to', 'israel', 'pls', ',', 'we', \"don't\", 'need', 'you']",
         "11"
        ],
        [
         "2",
         "1216559517887954945",
         "kelownascott",
         "The world, including Canada, has given Israel a green light to take Palestinian land, destroy Palestinian homes, and strengthen a system of #Apartheid. Shame on us!",
         "2020-01-13 03:16:06+00:00",
         "1",
         "Israel",
         "['The', 'world,', 'including', 'Canada,', 'has', 'given', 'Israel', 'a', 'green', 'light', 'to', 'take', 'Palestinian', 'land,', 'destroy', 'Palestinian', 'homes,', 'and', 'strengthen', 'a', 'system', 'of', '#Apartheid.', 'Shame', 'on', 'us!']",
         "26"
        ],
        [
         "3",
         "1217123508754534400",
         "KeishaJake",
         "These children avoid walking over the US &amp; Israel flags. Supposedly, this is a generation which was taught to hate America &amp; Israel, but it is the opposite!\nIranians seek freedom, peace &amp; a dignified life unlike the oppressive Iranian regime.\nWHY IS THE MEDIA PRO IRAN REGIME??? https://t.co/ym3Zt8jlfy",
         "2020-01-14 16:37:12+00:00",
         "0",
         "Israel",
         "['These', 'children', 'avoid', 'walking', 'over', 'the', 'US', '&amp;', 'Israel', 'flags.', 'Supposedly,', 'this', 'is', 'a', 'generation', 'which', 'was', 'taught', 'to', 'hate', 'America', '&amp;', 'Israel,', 'but', 'it', 'is', 'the', 'opposite!', 'Iranians', 'seek', 'freedom,', 'peace', '&amp;', 'a', 'dignified', 'life', 'unlike', 'the', 'oppressive', 'Iranian', 'regime.', 'WHY', 'IS', 'THE', 'MEDIA', 'PRO', 'IRAN', 'REGIME???', 'https://t.co/ym3Zt8jlfy']",
         "49"
        ],
        [
         "4",
         "1232258532273090560",
         "amit2nirvana",
         "RT @IDF: The last 24 hours in Israel: https://t.co/0YNwvMsYvL",
         "2020-02-25 10:58:23+00:00",
         "0",
         "Israel",
         "['RT', '@IDF:', 'The', 'last', '24', 'hours', 'in', 'Israel:', 'https://t.co/0YNwvMsYvL']",
         "9"
        ],
        [
         "5",
         "1224025761092448257",
         "NinjaAlex420",
         "@stranahan KnowMoreNews isn't confident enough to debate me that Jesuits control Israel not Jews https://t.co/rAFfEKOsLo",
         "2020-02-02 17:44:17+00:00",
         "0",
         "Israel",
         "['@stranahan', 'KnowMoreNews', \"isn't\", 'confident', 'enough', 'to', 'debate', 'me', 'that', 'Jesuits', 'control', 'Israel', 'not', 'Jews', 'https://t.co/rAFfEKOsLo']",
         "15"
        ],
        [
         "6",
         "1242382710561107969",
         "SevenShepherd",
         "\"[Even] an heritage unto Israel his servant: for his mercy [endureth] for ever.\" ~Psalms 136:22 #Bible #Poetry #God",
         "2020-03-24 09:28:15+00:00",
         "0",
         "Israel",
         "['\"[Even]', 'an', 'heritage', 'unto', 'Israel', 'his', 'servant:', 'for', 'his', 'mercy', '[endureth]', 'for', 'ever.\"', '~Psalms', '136:22', '#Bible', '#Poetry', '#God']",
         "18"
        ],
        [
         "7",
         "1224677205306818561",
         "MGSheikh8",
         "Opinion: No One in Israel Knew They Were Committing a Massacre, and They Didn't Care\n\nGideon Levy\nhttps://t.co/2Itgo9cuTE",
         "2020-02-04 12:52:53+00:00",
         "0",
         "Israel",
         "['Opinion:', 'No', 'One', 'in', 'Israel', 'Knew', 'They', 'Were', 'Committing', 'a', 'Massacre,', 'and', 'They', \"Didn't\", 'Care', 'Gideon', 'Levy', 'https://t.co/2Itgo9cuTE']",
         "18"
        ],
        [
         "8",
         "1214278369338109953",
         "elianebis1",
         "https://t.co/LTB0zidzM9 When #TheCloudOfGod appeared in the days of Moses,  He took the children of Israel from Egypt to the Canaan through tremendous judgement of the Egyptians. GOD is coming back to judge SIN again.",
         "2020-01-06 20:11:38+00:00",
         "0",
         "Israel",
         "['https://t.co/LTB0zidzM9', 'When', '#TheCloudOfGod', 'appeared', 'in', 'the', 'days', 'of', 'Moses,', 'He', 'took', 'the', 'children', 'of', 'Israel', 'from', 'Egypt', 'to', 'the', 'Canaan', 'through', 'tremendous', 'judgement', 'of', 'the', 'Egyptians.', 'GOD', 'is', 'coming', 'back', 'to', 'judge', 'SIN', 'again.']",
         "34"
        ],
        [
         "9",
         "1239732209872928768",
         "RabbiShmuley",
         "Smokers appear to be at higher risk from coronavirus - expert | The Times of Israel https://t.co/HgKQ8M7cJr",
         "2020-03-17 01:56:06+00:00",
         "0",
         "Israel",
         "['Smokers', 'appear', 'to', 'be', 'at', 'higher', 'risk', 'from', 'coronavirus', '-', 'expert', '|', 'The', 'Times', 'of', 'Israel', 'https://t.co/HgKQ8M7cJr']",
         "17"
        ]
       ],
       "shape": {
        "columns": 8,
        "rows": 10
       }
      },
      "text/html": [
       "<div>\n",
       "<style scoped>\n",
       "    .dataframe tbody tr th:only-of-type {\n",
       "        vertical-align: middle;\n",
       "    }\n",
       "\n",
       "    .dataframe tbody tr th {\n",
       "        vertical-align: top;\n",
       "    }\n",
       "\n",
       "    .dataframe thead th {\n",
       "        text-align: right;\n",
       "    }\n",
       "</style>\n",
       "<table border=\"1\" class=\"dataframe\">\n",
       "  <thead>\n",
       "    <tr style=\"text-align: right;\">\n",
       "      <th></th>\n",
       "      <th>TweetID</th>\n",
       "      <th>Username</th>\n",
       "      <th>Text</th>\n",
       "      <th>CreateDate</th>\n",
       "      <th>Biased</th>\n",
       "      <th>Keyword</th>\n",
       "      <th>word_list</th>\n",
       "      <th>Word_count</th>\n",
       "    </tr>\n",
       "  </thead>\n",
       "  <tbody>\n",
       "    <tr>\n",
       "      <th>0</th>\n",
       "      <td>1228740093357092865</td>\n",
       "      <td>Celtic_Films</td>\n",
       "      <td>AIPAC should be registered as a foreign agent ...</td>\n",
       "      <td>2020-02-15 17:57:21+00:00</td>\n",
       "      <td>1</td>\n",
       "      <td>Israel</td>\n",
       "      <td>[AIPAC, should, be, registered, as, a, foreign...</td>\n",
       "      <td>37</td>\n",
       "    </tr>\n",
       "    <tr>\n",
       "      <th>1</th>\n",
       "      <td>1239547900012589056</td>\n",
       "      <td>zariths__</td>\n",
       "      <td>RT @qiss0rkid: go to israel pls , we don't nee...</td>\n",
       "      <td>2020-03-16 13:43:43+00:00</td>\n",
       "      <td>1</td>\n",
       "      <td>Israel</td>\n",
       "      <td>[RT, @qiss0rkid:, go, to, israel, pls, ,, we, ...</td>\n",
       "      <td>11</td>\n",
       "    </tr>\n",
       "    <tr>\n",
       "      <th>2</th>\n",
       "      <td>1216559517887954945</td>\n",
       "      <td>kelownascott</td>\n",
       "      <td>The world, including Canada, has given Israel ...</td>\n",
       "      <td>2020-01-13 03:16:06+00:00</td>\n",
       "      <td>1</td>\n",
       "      <td>Israel</td>\n",
       "      <td>[The, world,, including, Canada,, has, given, ...</td>\n",
       "      <td>26</td>\n",
       "    </tr>\n",
       "    <tr>\n",
       "      <th>3</th>\n",
       "      <td>1217123508754534400</td>\n",
       "      <td>KeishaJake</td>\n",
       "      <td>These children avoid walking over the US &amp;amp;...</td>\n",
       "      <td>2020-01-14 16:37:12+00:00</td>\n",
       "      <td>0</td>\n",
       "      <td>Israel</td>\n",
       "      <td>[These, children, avoid, walking, over, the, U...</td>\n",
       "      <td>49</td>\n",
       "    </tr>\n",
       "    <tr>\n",
       "      <th>4</th>\n",
       "      <td>1232258532273090560</td>\n",
       "      <td>amit2nirvana</td>\n",
       "      <td>RT @IDF: The last 24 hours in Israel: https://...</td>\n",
       "      <td>2020-02-25 10:58:23+00:00</td>\n",
       "      <td>0</td>\n",
       "      <td>Israel</td>\n",
       "      <td>[RT, @IDF:, The, last, 24, hours, in, Israel:,...</td>\n",
       "      <td>9</td>\n",
       "    </tr>\n",
       "    <tr>\n",
       "      <th>5</th>\n",
       "      <td>1224025761092448257</td>\n",
       "      <td>NinjaAlex420</td>\n",
       "      <td>@stranahan KnowMoreNews isn't confident enough...</td>\n",
       "      <td>2020-02-02 17:44:17+00:00</td>\n",
       "      <td>0</td>\n",
       "      <td>Israel</td>\n",
       "      <td>[@stranahan, KnowMoreNews, isn't, confident, e...</td>\n",
       "      <td>15</td>\n",
       "    </tr>\n",
       "    <tr>\n",
       "      <th>6</th>\n",
       "      <td>1242382710561107969</td>\n",
       "      <td>SevenShepherd</td>\n",
       "      <td>\"[Even] an heritage unto Israel his servant: f...</td>\n",
       "      <td>2020-03-24 09:28:15+00:00</td>\n",
       "      <td>0</td>\n",
       "      <td>Israel</td>\n",
       "      <td>[\"[Even], an, heritage, unto, Israel, his, ser...</td>\n",
       "      <td>18</td>\n",
       "    </tr>\n",
       "    <tr>\n",
       "      <th>7</th>\n",
       "      <td>1224677205306818561</td>\n",
       "      <td>MGSheikh8</td>\n",
       "      <td>Opinion: No One in Israel Knew They Were Commi...</td>\n",
       "      <td>2020-02-04 12:52:53+00:00</td>\n",
       "      <td>0</td>\n",
       "      <td>Israel</td>\n",
       "      <td>[Opinion:, No, One, in, Israel, Knew, They, We...</td>\n",
       "      <td>18</td>\n",
       "    </tr>\n",
       "    <tr>\n",
       "      <th>8</th>\n",
       "      <td>1214278369338109953</td>\n",
       "      <td>elianebis1</td>\n",
       "      <td>https://t.co/LTB0zidzM9 When #TheCloudOfGod ap...</td>\n",
       "      <td>2020-01-06 20:11:38+00:00</td>\n",
       "      <td>0</td>\n",
       "      <td>Israel</td>\n",
       "      <td>[https://t.co/LTB0zidzM9, When, #TheCloudOfGod...</td>\n",
       "      <td>34</td>\n",
       "    </tr>\n",
       "    <tr>\n",
       "      <th>9</th>\n",
       "      <td>1239732209872928768</td>\n",
       "      <td>RabbiShmuley</td>\n",
       "      <td>Smokers appear to be at higher risk from coron...</td>\n",
       "      <td>2020-03-17 01:56:06+00:00</td>\n",
       "      <td>0</td>\n",
       "      <td>Israel</td>\n",
       "      <td>[Smokers, appear, to, be, at, higher, risk, fr...</td>\n",
       "      <td>17</td>\n",
       "    </tr>\n",
       "  </tbody>\n",
       "</table>\n",
       "</div>"
      ],
      "text/plain": [
       "               TweetID       Username  \\\n",
       "0  1228740093357092865   Celtic_Films   \n",
       "1  1239547900012589056      zariths__   \n",
       "2  1216559517887954945   kelownascott   \n",
       "3  1217123508754534400     KeishaJake   \n",
       "4  1232258532273090560   amit2nirvana   \n",
       "5  1224025761092448257   NinjaAlex420   \n",
       "6  1242382710561107969  SevenShepherd   \n",
       "7  1224677205306818561      MGSheikh8   \n",
       "8  1214278369338109953     elianebis1   \n",
       "9  1239732209872928768   RabbiShmuley   \n",
       "\n",
       "                                                Text  \\\n",
       "0  AIPAC should be registered as a foreign agent ...   \n",
       "1  RT @qiss0rkid: go to israel pls , we don't nee...   \n",
       "2  The world, including Canada, has given Israel ...   \n",
       "3  These children avoid walking over the US &amp;...   \n",
       "4  RT @IDF: The last 24 hours in Israel: https://...   \n",
       "5  @stranahan KnowMoreNews isn't confident enough...   \n",
       "6  \"[Even] an heritage unto Israel his servant: f...   \n",
       "7  Opinion: No One in Israel Knew They Were Commi...   \n",
       "8  https://t.co/LTB0zidzM9 When #TheCloudOfGod ap...   \n",
       "9  Smokers appear to be at higher risk from coron...   \n",
       "\n",
       "                  CreateDate  Biased Keyword  \\\n",
       "0  2020-02-15 17:57:21+00:00       1  Israel   \n",
       "1  2020-03-16 13:43:43+00:00       1  Israel   \n",
       "2  2020-01-13 03:16:06+00:00       1  Israel   \n",
       "3  2020-01-14 16:37:12+00:00       0  Israel   \n",
       "4  2020-02-25 10:58:23+00:00       0  Israel   \n",
       "5  2020-02-02 17:44:17+00:00       0  Israel   \n",
       "6  2020-03-24 09:28:15+00:00       0  Israel   \n",
       "7  2020-02-04 12:52:53+00:00       0  Israel   \n",
       "8  2020-01-06 20:11:38+00:00       0  Israel   \n",
       "9  2020-03-17 01:56:06+00:00       0  Israel   \n",
       "\n",
       "                                           word_list  Word_count  \n",
       "0  [AIPAC, should, be, registered, as, a, foreign...          37  \n",
       "1  [RT, @qiss0rkid:, go, to, israel, pls, ,, we, ...          11  \n",
       "2  [The, world,, including, Canada,, has, given, ...          26  \n",
       "3  [These, children, avoid, walking, over, the, U...          49  \n",
       "4  [RT, @IDF:, The, last, 24, hours, in, Israel:,...           9  \n",
       "5  [@stranahan, KnowMoreNews, isn't, confident, e...          15  \n",
       "6  [\"[Even], an, heritage, unto, Israel, his, ser...          18  \n",
       "7  [Opinion:, No, One, in, Israel, Knew, They, We...          18  \n",
       "8  [https://t.co/LTB0zidzM9, When, #TheCloudOfGod...          34  \n",
       "9  [Smokers, appear, to, be, at, higher, risk, fr...          17  "
      ]
     },
     "execution_count": 10,
     "metadata": {},
     "output_type": "execute_result"
    }
   ],
   "source": [
    "df[\"Word_count\"] = df.word_list.map(lambda t: len(t))\n",
    "df.head(10)\n"
   ]
  },
  {
   "cell_type": "markdown",
   "id": "4bfd8dee",
   "metadata": {},
   "source": [
    "בדיקה כמה מילים הם צעקות"
   ]
  },
  {
   "cell_type": "code",
   "execution_count": 11,
   "id": "45c24498",
   "metadata": {},
   "outputs": [
    {
     "data": {
      "application/vnd.microsoft.datawrangler.viewer.v0+json": {
       "columns": [
        {
         "name": "index",
         "rawType": "int64",
         "type": "integer"
        },
        {
         "name": "TweetID",
         "rawType": "int64",
         "type": "integer"
        },
        {
         "name": "Username",
         "rawType": "object",
         "type": "string"
        },
        {
         "name": "Text",
         "rawType": "object",
         "type": "string"
        },
        {
         "name": "CreateDate",
         "rawType": "object",
         "type": "string"
        },
        {
         "name": "Biased",
         "rawType": "int64",
         "type": "integer"
        },
        {
         "name": "Keyword",
         "rawType": "object",
         "type": "string"
        },
        {
         "name": "word_list",
         "rawType": "object",
         "type": "unknown"
        },
        {
         "name": "Word_count",
         "rawType": "int64",
         "type": "integer"
        },
        {
         "name": "Amount_of_shouting",
         "rawType": "int64",
         "type": "integer"
        }
       ],
       "ref": "c42f9501-faa1-4865-b9d7-733faaeeadb3",
       "rows": [
        [
         "0",
         "1228740093357092865",
         "Celtic_Films",
         "AIPAC should be registered as a foreign agent meddling in US elections.American Israel Political Action Committee.\n\nIt is interfering in the US electoral process and should be put on trial and it's leaders imprisoned.  @benshapiro @charliekirk11 https://t.co/ebO4iPUah8",
         "2020-02-15 17:57:21+00:00",
         "1",
         "Israel",
         "['AIPAC', 'should', 'be', 'registered', 'as', 'a', 'foreign', 'agent', 'meddling', 'in', 'US', 'elections.American', 'Israel', 'Political', 'Action', 'Committee.', 'It', 'is', 'interfering', 'in', 'the', 'US', 'electoral', 'process', 'and', 'should', 'be', 'put', 'on', 'trial', 'and', \"it's\", 'leaders', 'imprisoned.', '@benshapiro', '@charliekirk11', 'https://t.co/ebO4iPUah8']",
         "37",
         "0"
        ],
        [
         "1",
         "1239547900012589056",
         "zariths__",
         "RT @qiss0rkid: go to israel pls , we don't need you",
         "2020-03-16 13:43:43+00:00",
         "1",
         "Israel",
         "['RT', '@qiss0rkid:', 'go', 'to', 'israel', 'pls', ',', 'we', \"don't\", 'need', 'you']",
         "11",
         "0"
        ],
        [
         "2",
         "1216559517887954945",
         "kelownascott",
         "The world, including Canada, has given Israel a green light to take Palestinian land, destroy Palestinian homes, and strengthen a system of #Apartheid. Shame on us!",
         "2020-01-13 03:16:06+00:00",
         "1",
         "Israel",
         "['The', 'world,', 'including', 'Canada,', 'has', 'given', 'Israel', 'a', 'green', 'light', 'to', 'take', 'Palestinian', 'land,', 'destroy', 'Palestinian', 'homes,', 'and', 'strengthen', 'a', 'system', 'of', '#Apartheid.', 'Shame', 'on', 'us!']",
         "26",
         "0"
        ],
        [
         "3",
         "1217123508754534400",
         "KeishaJake",
         "These children avoid walking over the US &amp; Israel flags. Supposedly, this is a generation which was taught to hate America &amp; Israel, but it is the opposite!\nIranians seek freedom, peace &amp; a dignified life unlike the oppressive Iranian regime.\nWHY IS THE MEDIA PRO IRAN REGIME??? https://t.co/ym3Zt8jlfy",
         "2020-01-14 16:37:12+00:00",
         "0",
         "Israel",
         "['These', 'children', 'avoid', 'walking', 'over', 'the', 'US', '&amp;', 'Israel', 'flags.', 'Supposedly,', 'this', 'is', 'a', 'generation', 'which', 'was', 'taught', 'to', 'hate', 'America', '&amp;', 'Israel,', 'but', 'it', 'is', 'the', 'opposite!', 'Iranians', 'seek', 'freedom,', 'peace', '&amp;', 'a', 'dignified', 'life', 'unlike', 'the', 'oppressive', 'Iranian', 'regime.', 'WHY', 'IS', 'THE', 'MEDIA', 'PRO', 'IRAN', 'REGIME???', 'https://t.co/ym3Zt8jlfy']",
         "49",
         "0"
        ],
        [
         "4",
         "1232258532273090560",
         "amit2nirvana",
         "RT @IDF: The last 24 hours in Israel: https://t.co/0YNwvMsYvL",
         "2020-02-25 10:58:23+00:00",
         "0",
         "Israel",
         "['RT', '@IDF:', 'The', 'last', '24', 'hours', 'in', 'Israel:', 'https://t.co/0YNwvMsYvL']",
         "9",
         "0"
        ],
        [
         "5",
         "1224025761092448257",
         "NinjaAlex420",
         "@stranahan KnowMoreNews isn't confident enough to debate me that Jesuits control Israel not Jews https://t.co/rAFfEKOsLo",
         "2020-02-02 17:44:17+00:00",
         "0",
         "Israel",
         "['@stranahan', 'KnowMoreNews', \"isn't\", 'confident', 'enough', 'to', 'debate', 'me', 'that', 'Jesuits', 'control', 'Israel', 'not', 'Jews', 'https://t.co/rAFfEKOsLo']",
         "15",
         "0"
        ],
        [
         "6",
         "1242382710561107969",
         "SevenShepherd",
         "\"[Even] an heritage unto Israel his servant: for his mercy [endureth] for ever.\" ~Psalms 136:22 #Bible #Poetry #God",
         "2020-03-24 09:28:15+00:00",
         "0",
         "Israel",
         "['\"[Even]', 'an', 'heritage', 'unto', 'Israel', 'his', 'servant:', 'for', 'his', 'mercy', '[endureth]', 'for', 'ever.\"', '~Psalms', '136:22', '#Bible', '#Poetry', '#God']",
         "18",
         "0"
        ],
        [
         "7",
         "1224677205306818561",
         "MGSheikh8",
         "Opinion: No One in Israel Knew They Were Committing a Massacre, and They Didn't Care\n\nGideon Levy\nhttps://t.co/2Itgo9cuTE",
         "2020-02-04 12:52:53+00:00",
         "0",
         "Israel",
         "['Opinion:', 'No', 'One', 'in', 'Israel', 'Knew', 'They', 'Were', 'Committing', 'a', 'Massacre,', 'and', 'They', \"Didn't\", 'Care', 'Gideon', 'Levy', 'https://t.co/2Itgo9cuTE']",
         "18",
         "0"
        ],
        [
         "8",
         "1214278369338109953",
         "elianebis1",
         "https://t.co/LTB0zidzM9 When #TheCloudOfGod appeared in the days of Moses,  He took the children of Israel from Egypt to the Canaan through tremendous judgement of the Egyptians. GOD is coming back to judge SIN again.",
         "2020-01-06 20:11:38+00:00",
         "0",
         "Israel",
         "['https://t.co/LTB0zidzM9', 'When', '#TheCloudOfGod', 'appeared', 'in', 'the', 'days', 'of', 'Moses,', 'He', 'took', 'the', 'children', 'of', 'Israel', 'from', 'Egypt', 'to', 'the', 'Canaan', 'through', 'tremendous', 'judgement', 'of', 'the', 'Egyptians.', 'GOD', 'is', 'coming', 'back', 'to', 'judge', 'SIN', 'again.']",
         "34",
         "0"
        ],
        [
         "9",
         "1239732209872928768",
         "RabbiShmuley",
         "Smokers appear to be at higher risk from coronavirus - expert | The Times of Israel https://t.co/HgKQ8M7cJr",
         "2020-03-17 01:56:06+00:00",
         "0",
         "Israel",
         "['Smokers', 'appear', 'to', 'be', 'at', 'higher', 'risk', 'from', 'coronavirus', '-', 'expert', '|', 'The', 'Times', 'of', 'Israel', 'https://t.co/HgKQ8M7cJr']",
         "17",
         "0"
        ]
       ],
       "shape": {
        "columns": 9,
        "rows": 10
       }
      },
      "text/html": [
       "<div>\n",
       "<style scoped>\n",
       "    .dataframe tbody tr th:only-of-type {\n",
       "        vertical-align: middle;\n",
       "    }\n",
       "\n",
       "    .dataframe tbody tr th {\n",
       "        vertical-align: top;\n",
       "    }\n",
       "\n",
       "    .dataframe thead th {\n",
       "        text-align: right;\n",
       "    }\n",
       "</style>\n",
       "<table border=\"1\" class=\"dataframe\">\n",
       "  <thead>\n",
       "    <tr style=\"text-align: right;\">\n",
       "      <th></th>\n",
       "      <th>TweetID</th>\n",
       "      <th>Username</th>\n",
       "      <th>Text</th>\n",
       "      <th>CreateDate</th>\n",
       "      <th>Biased</th>\n",
       "      <th>Keyword</th>\n",
       "      <th>word_list</th>\n",
       "      <th>Word_count</th>\n",
       "      <th>Amount_of_shouting</th>\n",
       "    </tr>\n",
       "  </thead>\n",
       "  <tbody>\n",
       "    <tr>\n",
       "      <th>0</th>\n",
       "      <td>1228740093357092865</td>\n",
       "      <td>Celtic_Films</td>\n",
       "      <td>AIPAC should be registered as a foreign agent ...</td>\n",
       "      <td>2020-02-15 17:57:21+00:00</td>\n",
       "      <td>1</td>\n",
       "      <td>Israel</td>\n",
       "      <td>[AIPAC, should, be, registered, as, a, foreign...</td>\n",
       "      <td>37</td>\n",
       "      <td>0</td>\n",
       "    </tr>\n",
       "    <tr>\n",
       "      <th>1</th>\n",
       "      <td>1239547900012589056</td>\n",
       "      <td>zariths__</td>\n",
       "      <td>RT @qiss0rkid: go to israel pls , we don't nee...</td>\n",
       "      <td>2020-03-16 13:43:43+00:00</td>\n",
       "      <td>1</td>\n",
       "      <td>Israel</td>\n",
       "      <td>[RT, @qiss0rkid:, go, to, israel, pls, ,, we, ...</td>\n",
       "      <td>11</td>\n",
       "      <td>0</td>\n",
       "    </tr>\n",
       "    <tr>\n",
       "      <th>2</th>\n",
       "      <td>1216559517887954945</td>\n",
       "      <td>kelownascott</td>\n",
       "      <td>The world, including Canada, has given Israel ...</td>\n",
       "      <td>2020-01-13 03:16:06+00:00</td>\n",
       "      <td>1</td>\n",
       "      <td>Israel</td>\n",
       "      <td>[The, world,, including, Canada,, has, given, ...</td>\n",
       "      <td>26</td>\n",
       "      <td>0</td>\n",
       "    </tr>\n",
       "    <tr>\n",
       "      <th>3</th>\n",
       "      <td>1217123508754534400</td>\n",
       "      <td>KeishaJake</td>\n",
       "      <td>These children avoid walking over the US &amp;amp;...</td>\n",
       "      <td>2020-01-14 16:37:12+00:00</td>\n",
       "      <td>0</td>\n",
       "      <td>Israel</td>\n",
       "      <td>[These, children, avoid, walking, over, the, U...</td>\n",
       "      <td>49</td>\n",
       "      <td>0</td>\n",
       "    </tr>\n",
       "    <tr>\n",
       "      <th>4</th>\n",
       "      <td>1232258532273090560</td>\n",
       "      <td>amit2nirvana</td>\n",
       "      <td>RT @IDF: The last 24 hours in Israel: https://...</td>\n",
       "      <td>2020-02-25 10:58:23+00:00</td>\n",
       "      <td>0</td>\n",
       "      <td>Israel</td>\n",
       "      <td>[RT, @IDF:, The, last, 24, hours, in, Israel:,...</td>\n",
       "      <td>9</td>\n",
       "      <td>0</td>\n",
       "    </tr>\n",
       "    <tr>\n",
       "      <th>5</th>\n",
       "      <td>1224025761092448257</td>\n",
       "      <td>NinjaAlex420</td>\n",
       "      <td>@stranahan KnowMoreNews isn't confident enough...</td>\n",
       "      <td>2020-02-02 17:44:17+00:00</td>\n",
       "      <td>0</td>\n",
       "      <td>Israel</td>\n",
       "      <td>[@stranahan, KnowMoreNews, isn't, confident, e...</td>\n",
       "      <td>15</td>\n",
       "      <td>0</td>\n",
       "    </tr>\n",
       "    <tr>\n",
       "      <th>6</th>\n",
       "      <td>1242382710561107969</td>\n",
       "      <td>SevenShepherd</td>\n",
       "      <td>\"[Even] an heritage unto Israel his servant: f...</td>\n",
       "      <td>2020-03-24 09:28:15+00:00</td>\n",
       "      <td>0</td>\n",
       "      <td>Israel</td>\n",
       "      <td>[\"[Even], an, heritage, unto, Israel, his, ser...</td>\n",
       "      <td>18</td>\n",
       "      <td>0</td>\n",
       "    </tr>\n",
       "    <tr>\n",
       "      <th>7</th>\n",
       "      <td>1224677205306818561</td>\n",
       "      <td>MGSheikh8</td>\n",
       "      <td>Opinion: No One in Israel Knew They Were Commi...</td>\n",
       "      <td>2020-02-04 12:52:53+00:00</td>\n",
       "      <td>0</td>\n",
       "      <td>Israel</td>\n",
       "      <td>[Opinion:, No, One, in, Israel, Knew, They, We...</td>\n",
       "      <td>18</td>\n",
       "      <td>0</td>\n",
       "    </tr>\n",
       "    <tr>\n",
       "      <th>8</th>\n",
       "      <td>1214278369338109953</td>\n",
       "      <td>elianebis1</td>\n",
       "      <td>https://t.co/LTB0zidzM9 When #TheCloudOfGod ap...</td>\n",
       "      <td>2020-01-06 20:11:38+00:00</td>\n",
       "      <td>0</td>\n",
       "      <td>Israel</td>\n",
       "      <td>[https://t.co/LTB0zidzM9, When, #TheCloudOfGod...</td>\n",
       "      <td>34</td>\n",
       "      <td>0</td>\n",
       "    </tr>\n",
       "    <tr>\n",
       "      <th>9</th>\n",
       "      <td>1239732209872928768</td>\n",
       "      <td>RabbiShmuley</td>\n",
       "      <td>Smokers appear to be at higher risk from coron...</td>\n",
       "      <td>2020-03-17 01:56:06+00:00</td>\n",
       "      <td>0</td>\n",
       "      <td>Israel</td>\n",
       "      <td>[Smokers, appear, to, be, at, higher, risk, fr...</td>\n",
       "      <td>17</td>\n",
       "      <td>0</td>\n",
       "    </tr>\n",
       "  </tbody>\n",
       "</table>\n",
       "</div>"
      ],
      "text/plain": [
       "               TweetID       Username  \\\n",
       "0  1228740093357092865   Celtic_Films   \n",
       "1  1239547900012589056      zariths__   \n",
       "2  1216559517887954945   kelownascott   \n",
       "3  1217123508754534400     KeishaJake   \n",
       "4  1232258532273090560   amit2nirvana   \n",
       "5  1224025761092448257   NinjaAlex420   \n",
       "6  1242382710561107969  SevenShepherd   \n",
       "7  1224677205306818561      MGSheikh8   \n",
       "8  1214278369338109953     elianebis1   \n",
       "9  1239732209872928768   RabbiShmuley   \n",
       "\n",
       "                                                Text  \\\n",
       "0  AIPAC should be registered as a foreign agent ...   \n",
       "1  RT @qiss0rkid: go to israel pls , we don't nee...   \n",
       "2  The world, including Canada, has given Israel ...   \n",
       "3  These children avoid walking over the US &amp;...   \n",
       "4  RT @IDF: The last 24 hours in Israel: https://...   \n",
       "5  @stranahan KnowMoreNews isn't confident enough...   \n",
       "6  \"[Even] an heritage unto Israel his servant: f...   \n",
       "7  Opinion: No One in Israel Knew They Were Commi...   \n",
       "8  https://t.co/LTB0zidzM9 When #TheCloudOfGod ap...   \n",
       "9  Smokers appear to be at higher risk from coron...   \n",
       "\n",
       "                  CreateDate  Biased Keyword  \\\n",
       "0  2020-02-15 17:57:21+00:00       1  Israel   \n",
       "1  2020-03-16 13:43:43+00:00       1  Israel   \n",
       "2  2020-01-13 03:16:06+00:00       1  Israel   \n",
       "3  2020-01-14 16:37:12+00:00       0  Israel   \n",
       "4  2020-02-25 10:58:23+00:00       0  Israel   \n",
       "5  2020-02-02 17:44:17+00:00       0  Israel   \n",
       "6  2020-03-24 09:28:15+00:00       0  Israel   \n",
       "7  2020-02-04 12:52:53+00:00       0  Israel   \n",
       "8  2020-01-06 20:11:38+00:00       0  Israel   \n",
       "9  2020-03-17 01:56:06+00:00       0  Israel   \n",
       "\n",
       "                                           word_list  Word_count  \\\n",
       "0  [AIPAC, should, be, registered, as, a, foreign...          37   \n",
       "1  [RT, @qiss0rkid:, go, to, israel, pls, ,, we, ...          11   \n",
       "2  [The, world,, including, Canada,, has, given, ...          26   \n",
       "3  [These, children, avoid, walking, over, the, U...          49   \n",
       "4  [RT, @IDF:, The, last, 24, hours, in, Israel:,...           9   \n",
       "5  [@stranahan, KnowMoreNews, isn't, confident, e...          15   \n",
       "6  [\"[Even], an, heritage, unto, Israel, his, ser...          18   \n",
       "7  [Opinion:, No, One, in, Israel, Knew, They, We...          18   \n",
       "8  [https://t.co/LTB0zidzM9, When, #TheCloudOfGod...          34   \n",
       "9  [Smokers, appear, to, be, at, higher, risk, fr...          17   \n",
       "\n",
       "   Amount_of_shouting  \n",
       "0                   0  \n",
       "1                   0  \n",
       "2                   0  \n",
       "3                   0  \n",
       "4                   0  \n",
       "5                   0  \n",
       "6                   0  \n",
       "7                   0  \n",
       "8                   0  \n",
       "9                   0  "
      ]
     },
     "execution_count": 11,
     "metadata": {},
     "output_type": "execute_result"
    }
   ],
   "source": [
    "def amount_of_shouting(tweet: str) -> int:\n",
    "    screams = 0\n",
    "    for word in tweet:\n",
    "        if word in ascii_uppercase:\n",
    "            screams += 1\n",
    "    return screams\n",
    "\n",
    "\n",
    "df[\"Amount_of_shouting\"] = df.word_list.map(amount_of_shouting)\n",
    "df.head(10)\n"
   ]
  },
  {
   "cell_type": "markdown",
   "id": "78c9f693",
   "metadata": {},
   "source": [
    "בדיקה שאכן קיבלתי ערכים שונים בצעקות"
   ]
  },
  {
   "cell_type": "code",
   "execution_count": 12,
   "id": "aea4b4bc",
   "metadata": {},
   "outputs": [
    {
     "data": {
      "application/vnd.microsoft.datawrangler.viewer.v0+json": {
       "columns": [
        {
         "name": "Amount_of_shouting",
         "rawType": "int64",
         "type": "integer"
        },
        {
         "name": "count",
         "rawType": "int64",
         "type": "integer"
        }
       ],
       "ref": "10c47ae6-5833-474c-bccc-75684f7cc2a1",
       "rows": [
        [
         "0",
         "5904"
        ],
        [
         "1",
         "825"
        ],
        [
         "2",
         "146"
        ],
        [
         "3",
         "49"
        ],
        [
         "4",
         "9"
        ],
        [
         "6",
         "3"
        ],
        [
         "9",
         "2"
        ],
        [
         "11",
         "1"
        ],
        [
         "10",
         "1"
        ],
        [
         "8",
         "1"
        ]
       ],
       "shape": {
        "columns": 1,
        "rows": 10
       }
      },
      "text/plain": [
       "Amount_of_shouting\n",
       "0     5904\n",
       "1      825\n",
       "2      146\n",
       "3       49\n",
       "4        9\n",
       "6        3\n",
       "9        2\n",
       "11       1\n",
       "10       1\n",
       "8        1\n",
       "Name: count, dtype: int64"
      ]
     },
     "execution_count": 12,
     "metadata": {},
     "output_type": "execute_result"
    }
   ],
   "source": [
    "df.Amount_of_shouting.value_counts()\n"
   ]
  },
  {
   "cell_type": "markdown",
   "id": "75fd8359",
   "metadata": {},
   "source": [
    "כמות תווים בציוץ כדי למצוא את הגדולים ביותר"
   ]
  },
  {
   "cell_type": "code",
   "execution_count": 13,
   "id": "e5e43338",
   "metadata": {},
   "outputs": [
    {
     "data": {
      "application/vnd.microsoft.datawrangler.viewer.v0+json": {
       "columns": [
        {
         "name": "index",
         "rawType": "int64",
         "type": "integer"
        },
        {
         "name": "TweetID",
         "rawType": "int64",
         "type": "integer"
        },
        {
         "name": "Username",
         "rawType": "object",
         "type": "string"
        },
        {
         "name": "Text",
         "rawType": "object",
         "type": "string"
        },
        {
         "name": "CreateDate",
         "rawType": "object",
         "type": "string"
        },
        {
         "name": "Biased",
         "rawType": "int64",
         "type": "integer"
        },
        {
         "name": "Keyword",
         "rawType": "object",
         "type": "string"
        },
        {
         "name": "word_list",
         "rawType": "object",
         "type": "unknown"
        },
        {
         "name": "Word_count",
         "rawType": "int64",
         "type": "integer"
        },
        {
         "name": "Amount_of_shouting",
         "rawType": "int64",
         "type": "integer"
        },
        {
         "name": "number_of_letters",
         "rawType": "int64",
         "type": "integer"
        }
       ],
       "ref": "eae36214-4e87-40fe-b908-c8fa42b6c5ee",
       "rows": [
        [
         "0",
         "1228740093357092865",
         "Celtic_Films",
         "AIPAC should be registered as a foreign agent meddling in US elections.American Israel Political Action Committee.\n\nIt is interfering in the US electoral process and should be put on trial and it's leaders imprisoned.  @benshapiro @charliekirk11 https://t.co/ebO4iPUah8",
         "2020-02-15 17:57:21+00:00",
         "1",
         "Israel",
         "['AIPAC', 'should', 'be', 'registered', 'as', 'a', 'foreign', 'agent', 'meddling', 'in', 'US', 'elections.American', 'Israel', 'Political', 'Action', 'Committee.', 'It', 'is', 'interfering', 'in', 'the', 'US', 'electoral', 'process', 'and', 'should', 'be', 'put', 'on', 'trial', 'and', \"it's\", 'leaders', 'imprisoned.', '@benshapiro', '@charliekirk11', 'https://t.co/ebO4iPUah8']",
         "37",
         "0",
         "269"
        ],
        [
         "1",
         "1239547900012589056",
         "zariths__",
         "RT @qiss0rkid: go to israel pls , we don't need you",
         "2020-03-16 13:43:43+00:00",
         "1",
         "Israel",
         "['RT', '@qiss0rkid:', 'go', 'to', 'israel', 'pls', ',', 'we', \"don't\", 'need', 'you']",
         "11",
         "0",
         "51"
        ],
        [
         "2",
         "1216559517887954945",
         "kelownascott",
         "The world, including Canada, has given Israel a green light to take Palestinian land, destroy Palestinian homes, and strengthen a system of #Apartheid. Shame on us!",
         "2020-01-13 03:16:06+00:00",
         "1",
         "Israel",
         "['The', 'world,', 'including', 'Canada,', 'has', 'given', 'Israel', 'a', 'green', 'light', 'to', 'take', 'Palestinian', 'land,', 'destroy', 'Palestinian', 'homes,', 'and', 'strengthen', 'a', 'system', 'of', '#Apartheid.', 'Shame', 'on', 'us!']",
         "26",
         "0",
         "164"
        ],
        [
         "3",
         "1217123508754534400",
         "KeishaJake",
         "These children avoid walking over the US &amp; Israel flags. Supposedly, this is a generation which was taught to hate America &amp; Israel, but it is the opposite!\nIranians seek freedom, peace &amp; a dignified life unlike the oppressive Iranian regime.\nWHY IS THE MEDIA PRO IRAN REGIME??? https://t.co/ym3Zt8jlfy",
         "2020-01-14 16:37:12+00:00",
         "0",
         "Israel",
         "['These', 'children', 'avoid', 'walking', 'over', 'the', 'US', '&amp;', 'Israel', 'flags.', 'Supposedly,', 'this', 'is', 'a', 'generation', 'which', 'was', 'taught', 'to', 'hate', 'America', '&amp;', 'Israel,', 'but', 'it', 'is', 'the', 'opposite!', 'Iranians', 'seek', 'freedom,', 'peace', '&amp;', 'a', 'dignified', 'life', 'unlike', 'the', 'oppressive', 'Iranian', 'regime.', 'WHY', 'IS', 'THE', 'MEDIA', 'PRO', 'IRAN', 'REGIME???', 'https://t.co/ym3Zt8jlfy']",
         "49",
         "0",
         "314"
        ],
        [
         "4",
         "1232258532273090560",
         "amit2nirvana",
         "RT @IDF: The last 24 hours in Israel: https://t.co/0YNwvMsYvL",
         "2020-02-25 10:58:23+00:00",
         "0",
         "Israel",
         "['RT', '@IDF:', 'The', 'last', '24', 'hours', 'in', 'Israel:', 'https://t.co/0YNwvMsYvL']",
         "9",
         "0",
         "61"
        ],
        [
         "5",
         "1224025761092448257",
         "NinjaAlex420",
         "@stranahan KnowMoreNews isn't confident enough to debate me that Jesuits control Israel not Jews https://t.co/rAFfEKOsLo",
         "2020-02-02 17:44:17+00:00",
         "0",
         "Israel",
         "['@stranahan', 'KnowMoreNews', \"isn't\", 'confident', 'enough', 'to', 'debate', 'me', 'that', 'Jesuits', 'control', 'Israel', 'not', 'Jews', 'https://t.co/rAFfEKOsLo']",
         "15",
         "0",
         "120"
        ],
        [
         "6",
         "1242382710561107969",
         "SevenShepherd",
         "\"[Even] an heritage unto Israel his servant: for his mercy [endureth] for ever.\" ~Psalms 136:22 #Bible #Poetry #God",
         "2020-03-24 09:28:15+00:00",
         "0",
         "Israel",
         "['\"[Even]', 'an', 'heritage', 'unto', 'Israel', 'his', 'servant:', 'for', 'his', 'mercy', '[endureth]', 'for', 'ever.\"', '~Psalms', '136:22', '#Bible', '#Poetry', '#God']",
         "18",
         "0",
         "115"
        ],
        [
         "7",
         "1224677205306818561",
         "MGSheikh8",
         "Opinion: No One in Israel Knew They Were Committing a Massacre, and They Didn't Care\n\nGideon Levy\nhttps://t.co/2Itgo9cuTE",
         "2020-02-04 12:52:53+00:00",
         "0",
         "Israel",
         "['Opinion:', 'No', 'One', 'in', 'Israel', 'Knew', 'They', 'Were', 'Committing', 'a', 'Massacre,', 'and', 'They', \"Didn't\", 'Care', 'Gideon', 'Levy', 'https://t.co/2Itgo9cuTE']",
         "18",
         "0",
         "121"
        ],
        [
         "8",
         "1214278369338109953",
         "elianebis1",
         "https://t.co/LTB0zidzM9 When #TheCloudOfGod appeared in the days of Moses,  He took the children of Israel from Egypt to the Canaan through tremendous judgement of the Egyptians. GOD is coming back to judge SIN again.",
         "2020-01-06 20:11:38+00:00",
         "0",
         "Israel",
         "['https://t.co/LTB0zidzM9', 'When', '#TheCloudOfGod', 'appeared', 'in', 'the', 'days', 'of', 'Moses,', 'He', 'took', 'the', 'children', 'of', 'Israel', 'from', 'Egypt', 'to', 'the', 'Canaan', 'through', 'tremendous', 'judgement', 'of', 'the', 'Egyptians.', 'GOD', 'is', 'coming', 'back', 'to', 'judge', 'SIN', 'again.']",
         "34",
         "0",
         "217"
        ],
        [
         "9",
         "1239732209872928768",
         "RabbiShmuley",
         "Smokers appear to be at higher risk from coronavirus - expert | The Times of Israel https://t.co/HgKQ8M7cJr",
         "2020-03-17 01:56:06+00:00",
         "0",
         "Israel",
         "['Smokers', 'appear', 'to', 'be', 'at', 'higher', 'risk', 'from', 'coronavirus', '-', 'expert', '|', 'The', 'Times', 'of', 'Israel', 'https://t.co/HgKQ8M7cJr']",
         "17",
         "0",
         "107"
        ]
       ],
       "shape": {
        "columns": 10,
        "rows": 10
       }
      },
      "text/html": [
       "<div>\n",
       "<style scoped>\n",
       "    .dataframe tbody tr th:only-of-type {\n",
       "        vertical-align: middle;\n",
       "    }\n",
       "\n",
       "    .dataframe tbody tr th {\n",
       "        vertical-align: top;\n",
       "    }\n",
       "\n",
       "    .dataframe thead th {\n",
       "        text-align: right;\n",
       "    }\n",
       "</style>\n",
       "<table border=\"1\" class=\"dataframe\">\n",
       "  <thead>\n",
       "    <tr style=\"text-align: right;\">\n",
       "      <th></th>\n",
       "      <th>TweetID</th>\n",
       "      <th>Username</th>\n",
       "      <th>Text</th>\n",
       "      <th>CreateDate</th>\n",
       "      <th>Biased</th>\n",
       "      <th>Keyword</th>\n",
       "      <th>word_list</th>\n",
       "      <th>Word_count</th>\n",
       "      <th>Amount_of_shouting</th>\n",
       "      <th>number_of_letters</th>\n",
       "    </tr>\n",
       "  </thead>\n",
       "  <tbody>\n",
       "    <tr>\n",
       "      <th>0</th>\n",
       "      <td>1228740093357092865</td>\n",
       "      <td>Celtic_Films</td>\n",
       "      <td>AIPAC should be registered as a foreign agent ...</td>\n",
       "      <td>2020-02-15 17:57:21+00:00</td>\n",
       "      <td>1</td>\n",
       "      <td>Israel</td>\n",
       "      <td>[AIPAC, should, be, registered, as, a, foreign...</td>\n",
       "      <td>37</td>\n",
       "      <td>0</td>\n",
       "      <td>269</td>\n",
       "    </tr>\n",
       "    <tr>\n",
       "      <th>1</th>\n",
       "      <td>1239547900012589056</td>\n",
       "      <td>zariths__</td>\n",
       "      <td>RT @qiss0rkid: go to israel pls , we don't nee...</td>\n",
       "      <td>2020-03-16 13:43:43+00:00</td>\n",
       "      <td>1</td>\n",
       "      <td>Israel</td>\n",
       "      <td>[RT, @qiss0rkid:, go, to, israel, pls, ,, we, ...</td>\n",
       "      <td>11</td>\n",
       "      <td>0</td>\n",
       "      <td>51</td>\n",
       "    </tr>\n",
       "    <tr>\n",
       "      <th>2</th>\n",
       "      <td>1216559517887954945</td>\n",
       "      <td>kelownascott</td>\n",
       "      <td>The world, including Canada, has given Israel ...</td>\n",
       "      <td>2020-01-13 03:16:06+00:00</td>\n",
       "      <td>1</td>\n",
       "      <td>Israel</td>\n",
       "      <td>[The, world,, including, Canada,, has, given, ...</td>\n",
       "      <td>26</td>\n",
       "      <td>0</td>\n",
       "      <td>164</td>\n",
       "    </tr>\n",
       "    <tr>\n",
       "      <th>3</th>\n",
       "      <td>1217123508754534400</td>\n",
       "      <td>KeishaJake</td>\n",
       "      <td>These children avoid walking over the US &amp;amp;...</td>\n",
       "      <td>2020-01-14 16:37:12+00:00</td>\n",
       "      <td>0</td>\n",
       "      <td>Israel</td>\n",
       "      <td>[These, children, avoid, walking, over, the, U...</td>\n",
       "      <td>49</td>\n",
       "      <td>0</td>\n",
       "      <td>314</td>\n",
       "    </tr>\n",
       "    <tr>\n",
       "      <th>4</th>\n",
       "      <td>1232258532273090560</td>\n",
       "      <td>amit2nirvana</td>\n",
       "      <td>RT @IDF: The last 24 hours in Israel: https://...</td>\n",
       "      <td>2020-02-25 10:58:23+00:00</td>\n",
       "      <td>0</td>\n",
       "      <td>Israel</td>\n",
       "      <td>[RT, @IDF:, The, last, 24, hours, in, Israel:,...</td>\n",
       "      <td>9</td>\n",
       "      <td>0</td>\n",
       "      <td>61</td>\n",
       "    </tr>\n",
       "    <tr>\n",
       "      <th>5</th>\n",
       "      <td>1224025761092448257</td>\n",
       "      <td>NinjaAlex420</td>\n",
       "      <td>@stranahan KnowMoreNews isn't confident enough...</td>\n",
       "      <td>2020-02-02 17:44:17+00:00</td>\n",
       "      <td>0</td>\n",
       "      <td>Israel</td>\n",
       "      <td>[@stranahan, KnowMoreNews, isn't, confident, e...</td>\n",
       "      <td>15</td>\n",
       "      <td>0</td>\n",
       "      <td>120</td>\n",
       "    </tr>\n",
       "    <tr>\n",
       "      <th>6</th>\n",
       "      <td>1242382710561107969</td>\n",
       "      <td>SevenShepherd</td>\n",
       "      <td>\"[Even] an heritage unto Israel his servant: f...</td>\n",
       "      <td>2020-03-24 09:28:15+00:00</td>\n",
       "      <td>0</td>\n",
       "      <td>Israel</td>\n",
       "      <td>[\"[Even], an, heritage, unto, Israel, his, ser...</td>\n",
       "      <td>18</td>\n",
       "      <td>0</td>\n",
       "      <td>115</td>\n",
       "    </tr>\n",
       "    <tr>\n",
       "      <th>7</th>\n",
       "      <td>1224677205306818561</td>\n",
       "      <td>MGSheikh8</td>\n",
       "      <td>Opinion: No One in Israel Knew They Were Commi...</td>\n",
       "      <td>2020-02-04 12:52:53+00:00</td>\n",
       "      <td>0</td>\n",
       "      <td>Israel</td>\n",
       "      <td>[Opinion:, No, One, in, Israel, Knew, They, We...</td>\n",
       "      <td>18</td>\n",
       "      <td>0</td>\n",
       "      <td>121</td>\n",
       "    </tr>\n",
       "    <tr>\n",
       "      <th>8</th>\n",
       "      <td>1214278369338109953</td>\n",
       "      <td>elianebis1</td>\n",
       "      <td>https://t.co/LTB0zidzM9 When #TheCloudOfGod ap...</td>\n",
       "      <td>2020-01-06 20:11:38+00:00</td>\n",
       "      <td>0</td>\n",
       "      <td>Israel</td>\n",
       "      <td>[https://t.co/LTB0zidzM9, When, #TheCloudOfGod...</td>\n",
       "      <td>34</td>\n",
       "      <td>0</td>\n",
       "      <td>217</td>\n",
       "    </tr>\n",
       "    <tr>\n",
       "      <th>9</th>\n",
       "      <td>1239732209872928768</td>\n",
       "      <td>RabbiShmuley</td>\n",
       "      <td>Smokers appear to be at higher risk from coron...</td>\n",
       "      <td>2020-03-17 01:56:06+00:00</td>\n",
       "      <td>0</td>\n",
       "      <td>Israel</td>\n",
       "      <td>[Smokers, appear, to, be, at, higher, risk, fr...</td>\n",
       "      <td>17</td>\n",
       "      <td>0</td>\n",
       "      <td>107</td>\n",
       "    </tr>\n",
       "  </tbody>\n",
       "</table>\n",
       "</div>"
      ],
      "text/plain": [
       "               TweetID       Username  \\\n",
       "0  1228740093357092865   Celtic_Films   \n",
       "1  1239547900012589056      zariths__   \n",
       "2  1216559517887954945   kelownascott   \n",
       "3  1217123508754534400     KeishaJake   \n",
       "4  1232258532273090560   amit2nirvana   \n",
       "5  1224025761092448257   NinjaAlex420   \n",
       "6  1242382710561107969  SevenShepherd   \n",
       "7  1224677205306818561      MGSheikh8   \n",
       "8  1214278369338109953     elianebis1   \n",
       "9  1239732209872928768   RabbiShmuley   \n",
       "\n",
       "                                                Text  \\\n",
       "0  AIPAC should be registered as a foreign agent ...   \n",
       "1  RT @qiss0rkid: go to israel pls , we don't nee...   \n",
       "2  The world, including Canada, has given Israel ...   \n",
       "3  These children avoid walking over the US &amp;...   \n",
       "4  RT @IDF: The last 24 hours in Israel: https://...   \n",
       "5  @stranahan KnowMoreNews isn't confident enough...   \n",
       "6  \"[Even] an heritage unto Israel his servant: f...   \n",
       "7  Opinion: No One in Israel Knew They Were Commi...   \n",
       "8  https://t.co/LTB0zidzM9 When #TheCloudOfGod ap...   \n",
       "9  Smokers appear to be at higher risk from coron...   \n",
       "\n",
       "                  CreateDate  Biased Keyword  \\\n",
       "0  2020-02-15 17:57:21+00:00       1  Israel   \n",
       "1  2020-03-16 13:43:43+00:00       1  Israel   \n",
       "2  2020-01-13 03:16:06+00:00       1  Israel   \n",
       "3  2020-01-14 16:37:12+00:00       0  Israel   \n",
       "4  2020-02-25 10:58:23+00:00       0  Israel   \n",
       "5  2020-02-02 17:44:17+00:00       0  Israel   \n",
       "6  2020-03-24 09:28:15+00:00       0  Israel   \n",
       "7  2020-02-04 12:52:53+00:00       0  Israel   \n",
       "8  2020-01-06 20:11:38+00:00       0  Israel   \n",
       "9  2020-03-17 01:56:06+00:00       0  Israel   \n",
       "\n",
       "                                           word_list  Word_count  \\\n",
       "0  [AIPAC, should, be, registered, as, a, foreign...          37   \n",
       "1  [RT, @qiss0rkid:, go, to, israel, pls, ,, we, ...          11   \n",
       "2  [The, world,, including, Canada,, has, given, ...          26   \n",
       "3  [These, children, avoid, walking, over, the, U...          49   \n",
       "4  [RT, @IDF:, The, last, 24, hours, in, Israel:,...           9   \n",
       "5  [@stranahan, KnowMoreNews, isn't, confident, e...          15   \n",
       "6  [\"[Even], an, heritage, unto, Israel, his, ser...          18   \n",
       "7  [Opinion:, No, One, in, Israel, Knew, They, We...          18   \n",
       "8  [https://t.co/LTB0zidzM9, When, #TheCloudOfGod...          34   \n",
       "9  [Smokers, appear, to, be, at, higher, risk, fr...          17   \n",
       "\n",
       "   Amount_of_shouting  number_of_letters  \n",
       "0                   0                269  \n",
       "1                   0                 51  \n",
       "2                   0                164  \n",
       "3                   0                314  \n",
       "4                   0                 61  \n",
       "5                   0                120  \n",
       "6                   0                115  \n",
       "7                   0                121  \n",
       "8                   0                217  \n",
       "9                   0                107  "
      ]
     },
     "execution_count": 13,
     "metadata": {},
     "output_type": "execute_result"
    }
   ],
   "source": [
    "df[\"number_of_letters\"] = df.Text.map(len)\n",
    "df.head(10)\n"
   ]
  },
  {
   "cell_type": "markdown",
   "id": "ef054697",
   "metadata": {},
   "source": [
    "מציאת המילים הנפוצות ביותר"
   ]
  },
  {
   "cell_type": "code",
   "execution_count": 14,
   "id": "0db1c12b",
   "metadata": {},
   "outputs": [],
   "source": [
    "class CreatingADictionary:\n",
    "    def __init__(self, word_count: int = 10):\n",
    "        self._word_count = word_count\n",
    "        self._dictionary_of_words = dict()\n",
    "\n",
    "    def entry(self, tweet: str):\n",
    "        words = tweet.split()\n",
    "        for word in words:\n",
    "            self._add_to_dictionary(word)\n",
    "\n",
    "    def exit(self):\n",
    "        return self._the_most_common_words()\n",
    "\n",
    "    def _add_to_dictionary(self, word: str):\n",
    "        if word in self._dictionary_of_words.keys():\n",
    "            self._dictionary_of_words[word] += 1\n",
    "        else:\n",
    "            self._dictionary_of_words[word] = 1\n",
    "\n",
    "    def _the_most_common_words(self):\n",
    "        temp_dict = sorted(\n",
    "            self._dictionary_of_words.items(), key=lambda x: x[1], reverse=True\n",
    "        )\n",
    "        the_most_common_words = []\n",
    "        for i in range(self._word_count):\n",
    "            the_most_common_words.append(temp_dict[i][0])\n",
    "        return the_most_common_words\n",
    "\n",
    "\n",
    "a = CreatingADictionary(10)\n",
    "for i in range(0, len(df[\"Text\"]) - 1):\n",
    "    a.entry(df[\"Text\"][i])\n"
   ]
  },
  {
   "cell_type": "markdown",
   "id": "14ae2ffb",
   "metadata": {},
   "source": [
    "הוספת 10 המילים הארוכות ביותר לדיקשנרי"
   ]
  },
  {
   "cell_type": "code",
   "execution_count": 15,
   "id": "5d9ec4ba",
   "metadata": {},
   "outputs": [],
   "source": [
    "result[\"common_words\"] = a.exit()\n"
   ]
  },
  {
   "cell_type": "markdown",
   "id": "ee8ef9a3",
   "metadata": {},
   "source": [
    "הוספת כמות הציוצים לפי קטגוריה למילון וסה\"כ"
   ]
  },
  {
   "cell_type": "code",
   "execution_count": 16,
   "id": "cf7061e4",
   "metadata": {},
   "outputs": [
    {
     "name": "stdout",
     "output_type": "stream",
     "text": [
      "{'Tweet_count': {0: 5691, 1: 1250, 'Unclassified': 0, 'total': 6941},\n",
      " 'common_words': ['the',\n",
      "                  'to',\n",
      "                  'of',\n",
      "                  'and',\n",
      "                  'Jews',\n",
      "                  'in',\n",
      "                  'a',\n",
      "                  'is',\n",
      "                  'for',\n",
      "                  'are']}\n"
     ]
    }
   ],
   "source": [
    "result[\"Tweet_count\"] = df.Biased.value_counts().to_dict()\n",
    "result[\"Tweet_count\"][\"total\"] = df.shape[0]\n",
    "result[\"Tweet_count\"][\"Unclassified\"] = df.shape[0] - int(df.Biased.count())\n",
    "pprint(result)\n"
   ]
  },
  {
   "cell_type": "markdown",
   "id": "060aba47",
   "metadata": {},
   "source": [
    "הוספת אורך ממוצע לפי קטגוריה וסה\"כ"
   ]
  },
  {
   "cell_type": "code",
   "execution_count": 17,
   "id": "4251004b",
   "metadata": {},
   "outputs": [
    {
     "name": "stdout",
     "output_type": "stream",
     "text": [
      "{'Average_length': {0: 29.33614479001933,\n",
      "                    1: 23.6072,\n",
      "                    'total': 28.304422993804927},\n",
      " 'Tweet_count': {0: 5691, 1: 1250, 'Unclassified': 0, 'total': 6941},\n",
      " 'common_words': ['the',\n",
      "                  'to',\n",
      "                  'of',\n",
      "                  'and',\n",
      "                  'Jews',\n",
      "                  'in',\n",
      "                  'a',\n",
      "                  'is',\n",
      "                  'for',\n",
      "                  'are']}\n"
     ]
    }
   ],
   "source": [
    "result[\"Average_length\"] = df.groupby(\"Biased\")[\"Word_count\"].mean().to_dict()\n",
    "result[\"Average_length\"][\"total\"] = float(df.Word_count.mean())\n",
    "\n",
    "pprint(result)\n"
   ]
  },
  {
   "cell_type": "markdown",
   "id": "fb151b73",
   "metadata": {},
   "source": [
    "הוספת כמות המילים של צעקה לפי קטגוריה וסה\"כ"
   ]
  },
  {
   "cell_type": "code",
   "execution_count": 18,
   "id": "3fe13a71",
   "metadata": {},
   "outputs": [
    {
     "name": "stdout",
     "output_type": "stream",
     "text": [
      "{'Average_length': {0: 29.33614479001933,\n",
      "                    1: 23.6072,\n",
      "                    'total': 28.304422993804927},\n",
      " 'Tweet_count': {0: 5691, 1: 1250, 'Unclassified': 0, 'total': 6941},\n",
      " 'common_words': ['the',\n",
      "                  'to',\n",
      "                  'of',\n",
      "                  'and',\n",
      "                  'Jews',\n",
      "                  'in',\n",
      "                  'a',\n",
      "                  'is',\n",
      "                  'for',\n",
      "                  'are'],\n",
      " 'uppercase_words': {0: 1173, 1: 192, 'total': 1365}}\n"
     ]
    }
   ],
   "source": [
    "result[\"uppercase_words\"] = df.groupby(\"Biased\")[\"Amount_of_shouting\"].sum().to_dict()\n",
    "result[\"uppercase_words\"][\"total\"] = int(df.Amount_of_shouting.sum())\n",
    "pprint(result)\n"
   ]
  },
  {
   "cell_type": "markdown",
   "id": "6a05d0e8",
   "metadata": {},
   "source": [
    "כישלון אבל זה התחלה\n",
    "כלומר הצלחתי למצוא את הארוכים ביותר אבל לא הצלחתי להתקדם הלאה כי גוגל חסום לי"
   ]
  },
  {
   "cell_type": "markdown",
   "id": "135f9c0a",
   "metadata": {},
   "source": [
    "מיון הטבלה מגדול לקטן לפי העמודה של כמות התווים"
   ]
  },
  {
   "cell_type": "code",
   "execution_count": 19,
   "id": "56eb9581",
   "metadata": {},
   "outputs": [
    {
     "data": {
      "application/vnd.microsoft.datawrangler.viewer.v0+json": {
       "columns": [
        {
         "name": "index",
         "rawType": "int64",
         "type": "integer"
        },
        {
         "name": "TweetID",
         "rawType": "int64",
         "type": "integer"
        },
        {
         "name": "Username",
         "rawType": "object",
         "type": "string"
        },
        {
         "name": "Text",
         "rawType": "object",
         "type": "string"
        },
        {
         "name": "CreateDate",
         "rawType": "object",
         "type": "string"
        },
        {
         "name": "Biased",
         "rawType": "int64",
         "type": "integer"
        },
        {
         "name": "Keyword",
         "rawType": "object",
         "type": "string"
        },
        {
         "name": "word_list",
         "rawType": "object",
         "type": "unknown"
        },
        {
         "name": "Word_count",
         "rawType": "int64",
         "type": "integer"
        },
        {
         "name": "Amount_of_shouting",
         "rawType": "int64",
         "type": "integer"
        },
        {
         "name": "number_of_letters",
         "rawType": "int64",
         "type": "integer"
        }
       ],
       "ref": "25386087-c2fa-4240-8963-96482e5683c5",
       "rows": [
        [
         "6088",
         "1473413707803807750",
         "TofuForBrains",
         "@OnkelFester @SMoistpit @Melanie33720945 @shi_fs @malo_j @MuddyPenguins @jeremyfprice @ggelliott1 @Flaffenbam @WaitHereThen @JFayeSF @Canna420Uk @Bringlydingle @HiddenAudio @MindfulDamage @WorstSamaritan @remofjacob @LapIsGOAT @WarrenSm2 @BarneyFife09 @BrianNazarenus @Truthwiththord @luccaskunk @LetDBTellYou @ScientiaPercept @GodflyThe @rkdoctr @TakeThatHistory @MucusMucous @DoubleDoubleJon @CrispyCurry @Galcondude @_truthswordsa @rev_deluxe @MaidelK @HeathenWombat @spikeinthemidge @Sicut_Lupus @BBrown24646528 @AndrewRChapman @umfpt @1pckt @KendallShafer @jools6691 @adrianturner01 @JoeMDodd85 @PearSpheroid @ApostatePod @RTheatheist @albinogoth I mean, right there, that's a Christian worldview. Jews generally are more concerned with what is happening on earth and doing the right thing here. There's not the same concept of heaven or hell. And the whole thing about accepting everything on faith is very Christian--",
         "2021-12-21 22:02:57+00:00",
         "0",
         "Jews",
         "['@OnkelFester', '@SMoistpit', '@Melanie33720945', '@shi_fs', '@malo_j', '@MuddyPenguins', '@jeremyfprice', '@ggelliott1', '@Flaffenbam', '@WaitHereThen', '@JFayeSF', '@Canna420Uk', '@Bringlydingle', '@HiddenAudio', '@MindfulDamage', '@WorstSamaritan', '@remofjacob', '@LapIsGOAT', '@WarrenSm2', '@BarneyFife09', '@BrianNazarenus', '@Truthwiththord', '@luccaskunk', '@LetDBTellYou', '@ScientiaPercept', '@GodflyThe', '@rkdoctr', '@TakeThatHistory', '@MucusMucous', '@DoubleDoubleJon', '@CrispyCurry', '@Galcondude', '@_truthswordsa', '@rev_deluxe', '@MaidelK', '@HeathenWombat', '@spikeinthemidge', '@Sicut_Lupus', '@BBrown24646528', '@AndrewRChapman', '@umfpt', '@1pckt', '@KendallShafer', '@jools6691', '@adrianturner01', '@JoeMDodd85', '@PearSpheroid', '@ApostatePod', '@RTheatheist', '@albinogoth', 'I', 'mean,', 'right', 'there,', \"that's\", 'a', 'Christian', 'worldview.', 'Jews', 'generally', 'are', 'more', 'concerned', 'with', 'what', 'is', 'happening', 'on', 'earth', 'and', 'doing', 'the', 'right', 'thing', 'here.', \"There's\", 'not', 'the', 'same', 'concept', 'of', 'heaven', 'or', 'hell.', 'And', 'the', 'whole', 'thing', 'about', 'accepting', 'everything', 'on', 'faith', 'is', 'very', 'Christian--']",
         "96",
         "1",
         "924"
        ],
        [
         "5987",
         "1470505621946462209",
         "Procav_capensis",
         "@AnneOLe43078812 @bervamrojavi @kppotatoes @malkaavram @anniefofani @alannah_siobhan @Mikey007007 @Indisciplined12 @DonaldHorwitz5 @bilmishmish @OpenMin05346188 @Th2shay @LiverOfLife3 @Ahmadfarukhii @noam8080 @TimGranite @BENJAMlNTUCKER @OliverKBrown @JonahIvriAnochi @ScripteIadora @laielkha @fperez1776 @rosaismyhero @swepal1 @HebMacMan @BlueGreenberg @MiriamL99472550 @corjoy @nifkadimnohahim @MayaMurful @sunshinemind4 @ruskhat @maggicarter @AlBiRumi @HusseinBahsoun1 @Brad_Spielman @NGScott_NZ @fazel25689797 @bad_bec @GreteThorn @aalsaid54 @Maalbar1Mohd @Dorierez @WARONWASHINGTON @RosaWal90673631 @BrianLanca @inshallah1001 @squeeze_soul @gerda00052 @for_americans Yiddish contains thousands of Hebrew &amp; Aramaic words. Yiddish speakers also interacted with other Jews extensively. Btw, the oldest collection of texts in Yiddish comes from 1300s Cairo.",
         "2021-12-13 21:27:15+00:00",
         "0",
         "Jews",
         "['@AnneOLe43078812', '@bervamrojavi', '@kppotatoes', '@malkaavram', '@anniefofani', '@alannah_siobhan', '@Mikey007007', '@Indisciplined12', '@DonaldHorwitz5', '@bilmishmish', '@OpenMin05346188', '@Th2shay', '@LiverOfLife3', '@Ahmadfarukhii', '@noam8080', '@TimGranite', '@BENJAMlNTUCKER', '@OliverKBrown', '@JonahIvriAnochi', '@ScripteIadora', '@laielkha', '@fperez1776', '@rosaismyhero', '@swepal1', '@HebMacMan', '@BlueGreenberg', '@MiriamL99472550', '@corjoy', '@nifkadimnohahim', '@MayaMurful', '@sunshinemind4', '@ruskhat', '@maggicarter', '@AlBiRumi', '@HusseinBahsoun1', '@Brad_Spielman', '@NGScott_NZ', '@fazel25689797', '@bad_bec', '@GreteThorn', '@aalsaid54', '@Maalbar1Mohd', '@Dorierez', '@WARONWASHINGTON', '@RosaWal90673631', '@BrianLanca', '@inshallah1001', '@squeeze_soul', '@gerda00052', '@for_americans', 'Yiddish', 'contains', 'thousands', 'of', 'Hebrew', '&amp;', 'Aramaic', 'words.', 'Yiddish', 'speakers', 'also', 'interacted', 'with', 'other', 'Jews', 'extensively.', 'Btw,', 'the', 'oldest', 'collection', 'of', 'texts', 'in', 'Yiddish', 'comes', 'from', '1300s', 'Cairo.']",
         "78",
         "0",
         "862"
        ],
        [
         "3659",
         "1295462102833004544",
         "SimonVrouwe",
         "@BrasasEn @openeysdown @Steven495 @Talal9409 @TopRantKing @No_Israel_State @mamash_lo @Leylakhalid22 @makjob786 @kimbennylarsen @BeerBaron14 @SeguelSaul @passtheduchi @Joseetje3 @pohonyangdamai @mrpeabody @david_starof @shez19833 @EliavAbey @mlirh @Scripteladora @m_jew @TheZionist3 @ladyalmagreen @nigib1 @iluvdemocracy99 @DrawNiv @LehiRed @HebMacMan @AlbertGooner @dlsmith0817 @BoomerangTime @EnLiEretzAheret @PriestSanity @YourFriendZippy @Mabigbelio @AaIsrael2 @BoomTown85 @qtr_uk96 @AMilitantAgnost @StoliMark @fruitbatoo @RuruRola73 @slax43 @coaxialcreature @DavidSy32945540 @GlennnRoss @ilanyvv @shoozer12 @scopevale ApartheidIsrael, if there is a more racist nation on this planet of our, I don't know who it is. Black Jews, are actually treated appalling by the way. Check out David Sheen. He's done a lot of work exposing this https://t.co/s23B9r1fkw",
         "2020-08-17 20:46:48+00:00",
         "1",
         "Jews",
         "['@BrasasEn', '@openeysdown', '@Steven495', '@Talal9409', '@TopRantKing', '@No_Israel_State', '@mamash_lo', '@Leylakhalid22', '@makjob786', '@kimbennylarsen', '@BeerBaron14', '@SeguelSaul', '@passtheduchi', '@Joseetje3', '@pohonyangdamai', '@mrpeabody', '@david_starof', '@shez19833', '@EliavAbey', '@mlirh', '@Scripteladora', '@m_jew', '@TheZionist3', '@ladyalmagreen', '@nigib1', '@iluvdemocracy99', '@DrawNiv', '@LehiRed', '@HebMacMan', '@AlbertGooner', '@dlsmith0817', '@BoomerangTime', '@EnLiEretzAheret', '@PriestSanity', '@YourFriendZippy', '@Mabigbelio', '@AaIsrael2', '@BoomTown85', '@qtr_uk96', '@AMilitantAgnost', '@StoliMark', '@fruitbatoo', '@RuruRola73', '@slax43', '@coaxialcreature', '@DavidSy32945540', '@GlennnRoss', '@ilanyvv', '@shoozer12', '@scopevale', 'ApartheidIsrael,', 'if', 'there', 'is', 'a', 'more', 'racist', 'nation', 'on', 'this', 'planet', 'of', 'our,', 'I', \"don't\", 'know', 'who', 'it', 'is.', 'Black', 'Jews,', 'are', 'actually', 'treated', 'appalling', 'by', 'the', 'way.', 'Check', 'out', 'David', 'Sheen.', \"He's\", 'done', 'a', 'lot', 'of', 'work', 'exposing', 'this', 'https://t.co/s23B9r1fkw']",
         "91",
         "1",
         "860"
        ],
        [
         "852",
         "1295623244683370496",
         "SimonDaCosta",
         "@SyrianEcho @nissatal @Ezra_HaLevi @M0sstr00per @realChaim_Rubin @wisermann @DHasbara @TheKanaaneh @AhmedElshiekhA @viewreader @dbenilevi @CarlPendleton6 @BigDuke077 @paulmurff @TelAvivYonatan @ThorsProvoni @Dmonsel @rmorgy @fruitbatoo @LogicAndSanity @BaronieSisters @rogsonl @Ladonna48241663 @TiKingGraphics @PizzaGateLibya @malkaavram @BlueGreenberg @wurzel260654 @yoni_yonder @methuengena @PepperWingate @Tile57437223 @sherif_el_sayad @lephophora @ShamronAri @PalestineReverb @Johnkkelly2 @jdwstangs3 @AnastasiaKLynch @spiderzjay @tbago @mizrahi_b @iluvdemocracy99 @Copernicus2013 @CosFot @laielkha @NobodyNorman @rashidgill5 @YitzchakAded @nadiatonic2 The Romans renamed the land of a Israel when they also destroyed the second temple in Jerusalem it was then called Palestina. Jews have been living in the land of Judea and Summaria for centuries",
         "2020-08-18 07:27:07+00:00",
         "0",
         "Israel",
         "['@SyrianEcho', '@nissatal', '@Ezra_HaLevi', '@M0sstr00per', '@realChaim_Rubin', '@wisermann', '@DHasbara', '@TheKanaaneh', '@AhmedElshiekhA', '@viewreader', '@dbenilevi', '@CarlPendleton6', '@BigDuke077', '@paulmurff', '@TelAvivYonatan', '@ThorsProvoni', '@Dmonsel', '@rmorgy', '@fruitbatoo', '@LogicAndSanity', '@BaronieSisters', '@rogsonl', '@Ladonna48241663', '@TiKingGraphics', '@PizzaGateLibya', '@malkaavram', '@BlueGreenberg', '@wurzel260654', '@yoni_yonder', '@methuengena', '@PepperWingate', '@Tile57437223', '@sherif_el_sayad', '@lephophora', '@ShamronAri', '@PalestineReverb', '@Johnkkelly2', '@jdwstangs3', '@AnastasiaKLynch', '@spiderzjay', '@tbago', '@mizrahi_b', '@iluvdemocracy99', '@Copernicus2013', '@CosFot', '@laielkha', '@NobodyNorman', '@rashidgill5', '@YitzchakAded', '@nadiatonic2', 'The', 'Romans', 'renamed', 'the', 'land', 'of', 'a', 'Israel', 'when', 'they', 'also', 'destroyed', 'the', 'second', 'temple', 'in', 'Jerusalem', 'it', 'was', 'then', 'called', 'Palestina.', 'Jews', 'have', 'been', 'living', 'in', 'the', 'land', 'of', 'Judea', 'and', 'Summaria', 'for', 'centuries']",
         "85",
         "0",
         "852"
        ],
        [
         "6074",
         "1459783099773079553",
         "realChaim_Rubin",
         "@KevanKerby @andyblueskyz @Abel_Balb0 @dlsmith0817 @JamesSe94030523 @IQ15991967 @thycunt_h @Roger_sail @FadilNazih @swepal1 @P3ng1z @lisa20102019 @sleepyhead513 @whywouldyou_uk @LavBaalDevarim @Elswood3 @M0sstr00per @MehrMiriam @ellyngail @taniawh84254660 @retiredjudean @Johnny47028646 @AJewFromJudea @Bobby6172 @gomiriam63 @Stephen46723144 @Dec_Judea @Love4Al02036737 @mrpeabody @nadness13 @PPioer @AClosethecamps @IILeahll @PaytoslayOm @mabosisc @AntiZionistB @MattScottMusic @doobydoobydo2 @IngloriousBhere @Sunbeam110 @docbegel @NKippur @folktayl @Scripteladora @Wildflower1948 @realHasdaiC @RavShlomoYarhi @emmettimanu @luketebbs @BadriDawud . I'm talking legal and national claims, not suffering\n\nJews have more claim upon Syria and Iraq than Arabs, but nobody gives a shit about our special feelings and connection ??\n\nThe buck stops in Israel",
         "2021-11-14 07:19:47+00:00",
         "0",
         "Jews",
         "['@KevanKerby', '@andyblueskyz', '@Abel_Balb0', '@dlsmith0817', '@JamesSe94030523', '@IQ15991967', '@thycunt_h', '@Roger_sail', '@FadilNazih', '@swepal1', '@P3ng1z', '@lisa20102019', '@sleepyhead513', '@whywouldyou_uk', '@LavBaalDevarim', '@Elswood3', '@M0sstr00per', '@MehrMiriam', '@ellyngail', '@taniawh84254660', '@retiredjudean', '@Johnny47028646', '@AJewFromJudea', '@Bobby6172', '@gomiriam63', '@Stephen46723144', '@Dec_Judea', '@Love4Al02036737', '@mrpeabody', '@nadness13', '@PPioer', '@AClosethecamps', '@IILeahll', '@PaytoslayOm', '@mabosisc', '@AntiZionistB', '@MattScottMusic', '@doobydoobydo2', '@IngloriousBhere', '@Sunbeam110', '@docbegel', '@NKippur', '@folktayl', '@Scripteladora', '@Wildflower1948', '@realHasdaiC', '@RavShlomoYarhi', '@emmettimanu', '@luketebbs', '@BadriDawud', '.', \"I'm\", 'talking', 'legal', 'and', 'national', 'claims,', 'not', 'suffering', 'Jews', 'have', 'more', 'claim', 'upon', 'Syria', 'and', 'Iraq', 'than', 'Arabs,', 'but', 'nobody', 'gives', 'a', 'shit', 'about', 'our', 'special', 'feelings', 'and', 'connection', '??', 'The', 'buck', 'stops', 'in', 'Israel']",
         "86",
         "0",
         "851"
        ],
        [
         "4237",
         "1296910886356029440",
         "Wolfpak561",
         "@Snowleopards12 @BabeTruth2 @zalphaprime @A_Damned_smith @wiguy45 @malo_j @Onychom @SimonB1958 @Dave_O_Leary77 @yourmomspants1 @Wilkyway71 @RossGilroy @YorkshirePalaeo @SDarkmore @willsworldview @JohnKrahn2 @RobertBrownie @NarratingFools @EdwardwongY @sbusisiwe9Mbamb @CrispyCurry @Avic_Wins @SBuddie1877 @WmManry @Thohi @acneonmyshirt @TakeThatEpi @HenryWe05882308 @yoyoboy3000 @BabaT55311315 @Simple_Shaman @martin000023 @AllistairGraham @kester_lowers @ShatteredReaper @adrianturner01 @SavageTomas @LogicalReterg @Cleisthenes5 @TakeThatChem @Phoenix42505497 @derian_the_imp @badgervindaloo @oohglobbits5 @tuxlinuxien @IllinLaneCraig @JordanRivers007 @orna_verum @SeidlerThomas @Shrinki2 The pope was hiding in a closet while Jews were being gassed and tossed into Christian built ovens..you Christians turned a blind eye..that�s the truth..",
         "2020-08-21 20:43:45+00:00",
         "0",
         "Jews",
         "['@Snowleopards12', '@BabeTruth2', '@zalphaprime', '@A_Damned_smith', '@wiguy45', '@malo_j', '@Onychom', '@SimonB1958', '@Dave_O_Leary77', '@yourmomspants1', '@Wilkyway71', '@RossGilroy', '@YorkshirePalaeo', '@SDarkmore', '@willsworldview', '@JohnKrahn2', '@RobertBrownie', '@NarratingFools', '@EdwardwongY', '@sbusisiwe9Mbamb', '@CrispyCurry', '@Avic_Wins', '@SBuddie1877', '@WmManry', '@Thohi', '@acneonmyshirt', '@TakeThatEpi', '@HenryWe05882308', '@yoyoboy3000', '@BabaT55311315', '@Simple_Shaman', '@martin000023', '@AllistairGraham', '@kester_lowers', '@ShatteredReaper', '@adrianturner01', '@SavageTomas', '@LogicalReterg', '@Cleisthenes5', '@TakeThatChem', '@Phoenix42505497', '@derian_the_imp', '@badgervindaloo', '@oohglobbits5', '@tuxlinuxien', '@IllinLaneCraig', '@JordanRivers007', '@orna_verum', '@SeidlerThomas', '@Shrinki2', 'The', 'pope', 'was', 'hiding', 'in', 'a', 'closet', 'while', 'Jews', 'were', 'being', 'gassed', 'and', 'tossed', 'into', 'Christian', 'built', 'ovens..you', 'Christians', 'turned', 'a', 'blind', 'eye..that�s', 'the', 'truth..']",
         "75",
         "0",
         "843"
        ],
        [
         "4481",
         "1299294274761224192",
         "PriestSanity",
         "@mikepfarmer @Scripteladora @slax43 @david_starof @yes_we_cat @MisterTwyst @Resistdwp @edgyedgy123 @YB1234oo @ProModelWorld @kimbennylarsen @Scot4Israel @Joseetje3 @Pakeha56 @TopRantKing @DanielMazahreh @noah_guttman @IsraelandStufff @BoomTown85 @serhumanomiguel @AllenE12344 @FRONTLINE972 @HebMacMan @SimonVrouwe @Yankees_Rule_ @ladyalmagreen @pohonyangdamai @maccabboi @arminm64 @WillyBehera @aron_alee @Densnij @iluvdemocracy99 @AbuShlomo @SwissTechie @HillsHaveEyes02 @BReginleif @Grattan_H @CharlieLuchian2 @TheZionist3 @Rasputinish @themoiety @narrow_p @viejojudio @no1specialNEway @coaxialcreature @PeterSfaOne @TelAvivbroker @Flyzone__ A) It wasn't Shamir, it was Stern\nB) It was before Palestinian Jews realized the Nazis planned a holocaust of Jews\nC) Part of the motivation was to get Jews out of Europe, and to Palestine",
         "2020-08-28 10:34:29+00:00",
         "0",
         "Jews",
         "['@mikepfarmer', '@Scripteladora', '@slax43', '@david_starof', '@yes_we_cat', '@MisterTwyst', '@Resistdwp', '@edgyedgy123', '@YB1234oo', '@ProModelWorld', '@kimbennylarsen', '@Scot4Israel', '@Joseetje3', '@Pakeha56', '@TopRantKing', '@DanielMazahreh', '@noah_guttman', '@IsraelandStufff', '@BoomTown85', '@serhumanomiguel', '@AllenE12344', '@FRONTLINE972', '@HebMacMan', '@SimonVrouwe', '@Yankees_Rule_', '@ladyalmagreen', '@pohonyangdamai', '@maccabboi', '@arminm64', '@WillyBehera', '@aron_alee', '@Densnij', '@iluvdemocracy99', '@AbuShlomo', '@SwissTechie', '@HillsHaveEyes02', '@BReginleif', '@Grattan_H', '@CharlieLuchian2', '@TheZionist3', '@Rasputinish', '@themoiety', '@narrow_p', '@viejojudio', '@no1specialNEway', '@coaxialcreature', '@PeterSfaOne', '@TelAvivbroker', '@Flyzone__', 'A)', 'It', \"wasn't\", 'Shamir,', 'it', 'was', 'Stern', 'B)', 'It', 'was', 'before', 'Palestinian', 'Jews', 'realized', 'the', 'Nazis', 'planned', 'a', 'holocaust', 'of', 'Jews', 'C)', 'Part', 'of', 'the', 'motivation', 'was', 'to', 'get', 'Jews', 'out', 'of', 'Europe,', 'and', 'to', 'Palestine']",
         "85",
         "0",
         "832"
        ],
        [
         "3926",
         "1294558905201299457",
         "aust_toni",
         "@Leylakhalid22 @SimonVrouwe @JudgeFudge5 @YB1234oo @Roni4488 @AlonMa221 @ladyalmagreen @Joseetje3 @Resistdwp @Phant3985 @HebMacMan @TheZionist3 @MisterTwyst @FRONTLINE972 @yes_we_cat @themoiety @Scripteladora @david_starof @malkaavram @BoomTown85 @Go4greatest @Scot4Israel @DanielMazahreh @iluvdemocracy99 @JHorn12 @slax43 @BaronieSisters @sweposten @serhumanomiguel @SwissTechie @Yankees_Rule_ @Pakeha56 @amoyal @PriestSanity @TelAvivbroker @canpassforsmart @dorrit_r @RSE79 @aron_alee @HillsHaveEyes02 @searchfeast @ErezNeumark @AbuShlomo @BReginleif @TopRantKing @pohonyangdamai @Grattan_H @CharlieLuchian2 @Rasputinish @narrow_p Yes, but You arent such a Jew. The Bible-Jews do not exist anymore.\n\nThere are millions fakejews, the heritage hunters:\na) from Bible-Jews and\nb) from Holocaust.\n\nhttps://t.co/cLducBcump",
         "2020-08-15 08:57:49+00:00",
         "1",
         "Jews",
         "['@Leylakhalid22', '@SimonVrouwe', '@JudgeFudge5', '@YB1234oo', '@Roni4488', '@AlonMa221', '@ladyalmagreen', '@Joseetje3', '@Resistdwp', '@Phant3985', '@HebMacMan', '@TheZionist3', '@MisterTwyst', '@FRONTLINE972', '@yes_we_cat', '@themoiety', '@Scripteladora', '@david_starof', '@malkaavram', '@BoomTown85', '@Go4greatest', '@Scot4Israel', '@DanielMazahreh', '@iluvdemocracy99', '@JHorn12', '@slax43', '@BaronieSisters', '@sweposten', '@serhumanomiguel', '@SwissTechie', '@Yankees_Rule_', '@Pakeha56', '@amoyal', '@PriestSanity', '@TelAvivbroker', '@canpassforsmart', '@dorrit_r', '@RSE79', '@aron_alee', '@HillsHaveEyes02', '@searchfeast', '@ErezNeumark', '@AbuShlomo', '@BReginleif', '@TopRantKing', '@pohonyangdamai', '@Grattan_H', '@CharlieLuchian2', '@Rasputinish', '@narrow_p', 'Yes,', 'but', 'You', 'arent', 'such', 'a', 'Jew.', 'The', 'Bible-Jews', 'do', 'not', 'exist', 'anymore.', 'There', 'are', 'millions', 'fakejews,', 'the', 'heritage', 'hunters:', 'a)', 'from', 'Bible-Jews', 'and', 'b)', 'from', 'Holocaust.', 'https://t.co/cLducBcump']",
         "78",
         "0",
         "819"
        ],
        [
         "5697",
         "1462397701799268355",
         "Wanderinglord",
         "@R_i_p_S_a_w @stevieanntas @Krispi_Largo @medwoman1 @SapienWoman @stopthepewpew @TXWomenRESIST @JGainsbourgh @ahrehead @Last_Individual @bitterclingerpa @rsrap4 @AdorablePodcast @Badams820 @annaeck73 @AboveNun @NPWDBACKUP1 @Smartassicus @DenisRBara @16po @freshell2 @1Quetzalcoatl1 @ziggywilde @_Dream_Out_Loud @RAGINxCAJUN @thndrdude @Vickie627 @DrWaldo2 @Outafter_dark @BettyBorsalino @zennginger @JaneKn0wsBest @mshavisham @Cerulea78083156 @NothingLessAll @questionbot1776 @JenCages @JudyWhat34 @scaevala @TJSnodgrassier @jwfrompville @StephFeminist @Traveler3906 @RobfromMO @davelanger2k @QuidRises @ORavin81 @chronic_chels @StillNotThePope @Prolife4life5 Servants? Talk about interpreting so servants were property? And you keep ignoring the fact that non Jews were under different rules, https://t.co/1SsZCK8BrA",
         "2021-11-21 12:29:16+00:00",
         "0",
         "Jews",
         "['@R_i_p_S_a_w', '@stevieanntas', '@Krispi_Largo', '@medwoman1', '@SapienWoman', '@stopthepewpew', '@TXWomenRESIST', '@JGainsbourgh', '@ahrehead', '@Last_Individual', '@bitterclingerpa', '@rsrap4', '@AdorablePodcast', '@Badams820', '@annaeck73', '@AboveNun', '@NPWDBACKUP1', '@Smartassicus', '@DenisRBara', '@16po', '@freshell2', '@1Quetzalcoatl1', '@ziggywilde', '@_Dream_Out_Loud', '@RAGINxCAJUN', '@thndrdude', '@Vickie627', '@DrWaldo2', '@Outafter_dark', '@BettyBorsalino', '@zennginger', '@JaneKn0wsBest', '@mshavisham', '@Cerulea78083156', '@NothingLessAll', '@questionbot1776', '@JenCages', '@JudyWhat34', '@scaevala', '@TJSnodgrassier', '@jwfrompville', '@StephFeminist', '@Traveler3906', '@RobfromMO', '@davelanger2k', '@QuidRises', '@ORavin81', '@chronic_chels', '@StillNotThePope', '@Prolife4life5', 'Servants?', 'Talk', 'about', 'interpreting', 'so', 'servants', 'were', 'property?', 'And', 'you', 'keep', 'ignoring', 'the', 'fact', 'that', 'non', 'Jews', 'were', 'under', 'different', 'rules,', 'https://t.co/1SsZCK8BrA']",
         "72",
         "0",
         "817"
        ],
        [
         "5742",
         "1453222690324627464",
         "Josh_Pactor",
         "@Jominee @TruthToPeace @itsmeekari_ @viraqupic @R0gueWolf @KevanKerby @IQ15991967 @retiredjudean @MarkRPellegrino @LavBaalDevarim @BarryBenjamin21 @lisa20102019 @Americanism37 @MehrMiriam @TeachESL @Gilgame39722127 @fishynobi @sleepyhead513 @noelleschmitt2 @amisraelchai41 @Hi86164306 @freedomforce990 @EFFNOTDEAD @Kera42925470 @giheme @DontTreadOnUS @revmaddog3 @Meowrawrrrrrrr @Botthescott @LadyIzyda @Takamochi_31 @natashahyy6l225 @onna_oni02 @kokokranch18 @phialkeeper @Gul8877 @imranbabe666 @IILeahll @spicy_tiqa @Scripteladora @jonii_kim @ExposeFakestine @nourl_z @Balabusta79 @PalestineNYC @Hanat26_ @JohnnyYoussef7 @HebMacMan @whywouldyou_uk Actually, it was in fact mostly empty. Over 90% of the land not owned by Jews was owned by the state (Ottoman Empire, then Britain), not private Arab land owners.",
         "2021-10-27 04:51:03+00:00",
         "0",
         "Jews",
         "['@Jominee', '@TruthToPeace', '@itsmeekari_', '@viraqupic', '@R0gueWolf', '@KevanKerby', '@IQ15991967', '@retiredjudean', '@MarkRPellegrino', '@LavBaalDevarim', '@BarryBenjamin21', '@lisa20102019', '@Americanism37', '@MehrMiriam', '@TeachESL', '@Gilgame39722127', '@fishynobi', '@sleepyhead513', '@noelleschmitt2', '@amisraelchai41', '@Hi86164306', '@freedomforce990', '@EFFNOTDEAD', '@Kera42925470', '@giheme', '@DontTreadOnUS', '@revmaddog3', '@Meowrawrrrrrrr', '@Botthescott', '@LadyIzyda', '@Takamochi_31', '@natashahyy6l225', '@onna_oni02', '@kokokranch18', '@phialkeeper', '@Gul8877', '@imranbabe666', '@IILeahll', '@spicy_tiqa', '@Scripteladora', '@jonii_kim', '@ExposeFakestine', '@nourl_z', '@Balabusta79', '@PalestineNYC', '@Hanat26_', '@JohnnyYoussef7', '@HebMacMan', '@whywouldyou_uk', 'Actually,', 'it', 'was', 'in', 'fact', 'mostly', 'empty.', 'Over', '90%', 'of', 'the', 'land', 'not', 'owned', 'by', 'Jews', 'was', 'owned', 'by', 'the', 'state', '(Ottoman', 'Empire,', 'then', 'Britain),', 'not', 'private', 'Arab', 'land', 'owners.']",
         "79",
         "0",
         "812"
        ]
       ],
       "shape": {
        "columns": 10,
        "rows": 10
       }
      },
      "text/html": [
       "<div>\n",
       "<style scoped>\n",
       "    .dataframe tbody tr th:only-of-type {\n",
       "        vertical-align: middle;\n",
       "    }\n",
       "\n",
       "    .dataframe tbody tr th {\n",
       "        vertical-align: top;\n",
       "    }\n",
       "\n",
       "    .dataframe thead th {\n",
       "        text-align: right;\n",
       "    }\n",
       "</style>\n",
       "<table border=\"1\" class=\"dataframe\">\n",
       "  <thead>\n",
       "    <tr style=\"text-align: right;\">\n",
       "      <th></th>\n",
       "      <th>TweetID</th>\n",
       "      <th>Username</th>\n",
       "      <th>Text</th>\n",
       "      <th>CreateDate</th>\n",
       "      <th>Biased</th>\n",
       "      <th>Keyword</th>\n",
       "      <th>word_list</th>\n",
       "      <th>Word_count</th>\n",
       "      <th>Amount_of_shouting</th>\n",
       "      <th>number_of_letters</th>\n",
       "    </tr>\n",
       "  </thead>\n",
       "  <tbody>\n",
       "    <tr>\n",
       "      <th>6088</th>\n",
       "      <td>1473413707803807750</td>\n",
       "      <td>TofuForBrains</td>\n",
       "      <td>@OnkelFester @SMoistpit @Melanie33720945 @shi_...</td>\n",
       "      <td>2021-12-21 22:02:57+00:00</td>\n",
       "      <td>0</td>\n",
       "      <td>Jews</td>\n",
       "      <td>[@OnkelFester, @SMoistpit, @Melanie33720945, @...</td>\n",
       "      <td>96</td>\n",
       "      <td>1</td>\n",
       "      <td>924</td>\n",
       "    </tr>\n",
       "    <tr>\n",
       "      <th>5987</th>\n",
       "      <td>1470505621946462209</td>\n",
       "      <td>Procav_capensis</td>\n",
       "      <td>@AnneOLe43078812 @bervamrojavi @kppotatoes @ma...</td>\n",
       "      <td>2021-12-13 21:27:15+00:00</td>\n",
       "      <td>0</td>\n",
       "      <td>Jews</td>\n",
       "      <td>[@AnneOLe43078812, @bervamrojavi, @kppotatoes,...</td>\n",
       "      <td>78</td>\n",
       "      <td>0</td>\n",
       "      <td>862</td>\n",
       "    </tr>\n",
       "    <tr>\n",
       "      <th>3659</th>\n",
       "      <td>1295462102833004544</td>\n",
       "      <td>SimonVrouwe</td>\n",
       "      <td>@BrasasEn @openeysdown @Steven495 @Talal9409 @...</td>\n",
       "      <td>2020-08-17 20:46:48+00:00</td>\n",
       "      <td>1</td>\n",
       "      <td>Jews</td>\n",
       "      <td>[@BrasasEn, @openeysdown, @Steven495, @Talal94...</td>\n",
       "      <td>91</td>\n",
       "      <td>1</td>\n",
       "      <td>860</td>\n",
       "    </tr>\n",
       "    <tr>\n",
       "      <th>852</th>\n",
       "      <td>1295623244683370496</td>\n",
       "      <td>SimonDaCosta</td>\n",
       "      <td>@SyrianEcho @nissatal @Ezra_HaLevi @M0sstr00pe...</td>\n",
       "      <td>2020-08-18 07:27:07+00:00</td>\n",
       "      <td>0</td>\n",
       "      <td>Israel</td>\n",
       "      <td>[@SyrianEcho, @nissatal, @Ezra_HaLevi, @M0sstr...</td>\n",
       "      <td>85</td>\n",
       "      <td>0</td>\n",
       "      <td>852</td>\n",
       "    </tr>\n",
       "    <tr>\n",
       "      <th>6074</th>\n",
       "      <td>1459783099773079553</td>\n",
       "      <td>realChaim_Rubin</td>\n",
       "      <td>@KevanKerby @andyblueskyz @Abel_Balb0 @dlsmith...</td>\n",
       "      <td>2021-11-14 07:19:47+00:00</td>\n",
       "      <td>0</td>\n",
       "      <td>Jews</td>\n",
       "      <td>[@KevanKerby, @andyblueskyz, @Abel_Balb0, @dls...</td>\n",
       "      <td>86</td>\n",
       "      <td>0</td>\n",
       "      <td>851</td>\n",
       "    </tr>\n",
       "    <tr>\n",
       "      <th>4237</th>\n",
       "      <td>1296910886356029440</td>\n",
       "      <td>Wolfpak561</td>\n",
       "      <td>@Snowleopards12 @BabeTruth2 @zalphaprime @A_Da...</td>\n",
       "      <td>2020-08-21 20:43:45+00:00</td>\n",
       "      <td>0</td>\n",
       "      <td>Jews</td>\n",
       "      <td>[@Snowleopards12, @BabeTruth2, @zalphaprime, @...</td>\n",
       "      <td>75</td>\n",
       "      <td>0</td>\n",
       "      <td>843</td>\n",
       "    </tr>\n",
       "    <tr>\n",
       "      <th>4481</th>\n",
       "      <td>1299294274761224192</td>\n",
       "      <td>PriestSanity</td>\n",
       "      <td>@mikepfarmer @Scripteladora @slax43 @david_sta...</td>\n",
       "      <td>2020-08-28 10:34:29+00:00</td>\n",
       "      <td>0</td>\n",
       "      <td>Jews</td>\n",
       "      <td>[@mikepfarmer, @Scripteladora, @slax43, @david...</td>\n",
       "      <td>85</td>\n",
       "      <td>0</td>\n",
       "      <td>832</td>\n",
       "    </tr>\n",
       "    <tr>\n",
       "      <th>3926</th>\n",
       "      <td>1294558905201299457</td>\n",
       "      <td>aust_toni</td>\n",
       "      <td>@Leylakhalid22 @SimonVrouwe @JudgeFudge5 @YB12...</td>\n",
       "      <td>2020-08-15 08:57:49+00:00</td>\n",
       "      <td>1</td>\n",
       "      <td>Jews</td>\n",
       "      <td>[@Leylakhalid22, @SimonVrouwe, @JudgeFudge5, @...</td>\n",
       "      <td>78</td>\n",
       "      <td>0</td>\n",
       "      <td>819</td>\n",
       "    </tr>\n",
       "    <tr>\n",
       "      <th>5697</th>\n",
       "      <td>1462397701799268355</td>\n",
       "      <td>Wanderinglord</td>\n",
       "      <td>@R_i_p_S_a_w @stevieanntas @Krispi_Largo @medw...</td>\n",
       "      <td>2021-11-21 12:29:16+00:00</td>\n",
       "      <td>0</td>\n",
       "      <td>Jews</td>\n",
       "      <td>[@R_i_p_S_a_w, @stevieanntas, @Krispi_Largo, @...</td>\n",
       "      <td>72</td>\n",
       "      <td>0</td>\n",
       "      <td>817</td>\n",
       "    </tr>\n",
       "    <tr>\n",
       "      <th>5742</th>\n",
       "      <td>1453222690324627464</td>\n",
       "      <td>Josh_Pactor</td>\n",
       "      <td>@Jominee @TruthToPeace @itsmeekari_ @viraqupic...</td>\n",
       "      <td>2021-10-27 04:51:03+00:00</td>\n",
       "      <td>0</td>\n",
       "      <td>Jews</td>\n",
       "      <td>[@Jominee, @TruthToPeace, @itsmeekari_, @viraq...</td>\n",
       "      <td>79</td>\n",
       "      <td>0</td>\n",
       "      <td>812</td>\n",
       "    </tr>\n",
       "  </tbody>\n",
       "</table>\n",
       "</div>"
      ],
      "text/plain": [
       "                  TweetID         Username  \\\n",
       "6088  1473413707803807750    TofuForBrains   \n",
       "5987  1470505621946462209  Procav_capensis   \n",
       "3659  1295462102833004544      SimonVrouwe   \n",
       "852   1295623244683370496     SimonDaCosta   \n",
       "6074  1459783099773079553  realChaim_Rubin   \n",
       "4237  1296910886356029440       Wolfpak561   \n",
       "4481  1299294274761224192     PriestSanity   \n",
       "3926  1294558905201299457        aust_toni   \n",
       "5697  1462397701799268355    Wanderinglord   \n",
       "5742  1453222690324627464      Josh_Pactor   \n",
       "\n",
       "                                                   Text  \\\n",
       "6088  @OnkelFester @SMoistpit @Melanie33720945 @shi_...   \n",
       "5987  @AnneOLe43078812 @bervamrojavi @kppotatoes @ma...   \n",
       "3659  @BrasasEn @openeysdown @Steven495 @Talal9409 @...   \n",
       "852   @SyrianEcho @nissatal @Ezra_HaLevi @M0sstr00pe...   \n",
       "6074  @KevanKerby @andyblueskyz @Abel_Balb0 @dlsmith...   \n",
       "4237  @Snowleopards12 @BabeTruth2 @zalphaprime @A_Da...   \n",
       "4481  @mikepfarmer @Scripteladora @slax43 @david_sta...   \n",
       "3926  @Leylakhalid22 @SimonVrouwe @JudgeFudge5 @YB12...   \n",
       "5697  @R_i_p_S_a_w @stevieanntas @Krispi_Largo @medw...   \n",
       "5742  @Jominee @TruthToPeace @itsmeekari_ @viraqupic...   \n",
       "\n",
       "                     CreateDate  Biased Keyword  \\\n",
       "6088  2021-12-21 22:02:57+00:00       0    Jews   \n",
       "5987  2021-12-13 21:27:15+00:00       0    Jews   \n",
       "3659  2020-08-17 20:46:48+00:00       1    Jews   \n",
       "852   2020-08-18 07:27:07+00:00       0  Israel   \n",
       "6074  2021-11-14 07:19:47+00:00       0    Jews   \n",
       "4237  2020-08-21 20:43:45+00:00       0    Jews   \n",
       "4481  2020-08-28 10:34:29+00:00       0    Jews   \n",
       "3926  2020-08-15 08:57:49+00:00       1    Jews   \n",
       "5697  2021-11-21 12:29:16+00:00       0    Jews   \n",
       "5742  2021-10-27 04:51:03+00:00       0    Jews   \n",
       "\n",
       "                                              word_list  Word_count  \\\n",
       "6088  [@OnkelFester, @SMoistpit, @Melanie33720945, @...          96   \n",
       "5987  [@AnneOLe43078812, @bervamrojavi, @kppotatoes,...          78   \n",
       "3659  [@BrasasEn, @openeysdown, @Steven495, @Talal94...          91   \n",
       "852   [@SyrianEcho, @nissatal, @Ezra_HaLevi, @M0sstr...          85   \n",
       "6074  [@KevanKerby, @andyblueskyz, @Abel_Balb0, @dls...          86   \n",
       "4237  [@Snowleopards12, @BabeTruth2, @zalphaprime, @...          75   \n",
       "4481  [@mikepfarmer, @Scripteladora, @slax43, @david...          85   \n",
       "3926  [@Leylakhalid22, @SimonVrouwe, @JudgeFudge5, @...          78   \n",
       "5697  [@R_i_p_S_a_w, @stevieanntas, @Krispi_Largo, @...          72   \n",
       "5742  [@Jominee, @TruthToPeace, @itsmeekari_, @viraq...          79   \n",
       "\n",
       "      Amount_of_shouting  number_of_letters  \n",
       "6088                   1                924  \n",
       "5987                   0                862  \n",
       "3659                   1                860  \n",
       "852                    0                852  \n",
       "6074                   0                851  \n",
       "4237                   0                843  \n",
       "4481                   0                832  \n",
       "3926                   0                819  \n",
       "5697                   0                817  \n",
       "5742                   0                812  "
      ]
     },
     "execution_count": 19,
     "metadata": {},
     "output_type": "execute_result"
    }
   ],
   "source": [
    "df = df.sort_values([\"number_of_letters\"], ascending=False)\n",
    "df.head(10)\n"
   ]
  },
  {
   "cell_type": "markdown",
   "id": "2e6f718b",
   "metadata": {},
   "source": [
    "קבלת 3 השורות הגדולות ביותר מכל קטגוריה"
   ]
  },
  {
   "cell_type": "code",
   "execution_count": 20,
   "id": "99b4fb99",
   "metadata": {},
   "outputs": [
    {
     "data": {
      "application/vnd.microsoft.datawrangler.viewer.v0+json": {
       "columns": [
        {
         "name": "index",
         "rawType": "int64",
         "type": "integer"
        },
        {
         "name": "Text",
         "rawType": "object",
         "type": "string"
        }
       ],
       "ref": "aa57af9c-1519-4e39-865c-c997916dbf4d",
       "rows": [
        [
         "6088",
         "@OnkelFester @SMoistpit @Melanie33720945 @shi_fs @malo_j @MuddyPenguins @jeremyfprice @ggelliott1 @Flaffenbam @WaitHereThen @JFayeSF @Canna420Uk @Bringlydingle @HiddenAudio @MindfulDamage @WorstSamaritan @remofjacob @LapIsGOAT @WarrenSm2 @BarneyFife09 @BrianNazarenus @Truthwiththord @luccaskunk @LetDBTellYou @ScientiaPercept @GodflyThe @rkdoctr @TakeThatHistory @MucusMucous @DoubleDoubleJon @CrispyCurry @Galcondude @_truthswordsa @rev_deluxe @MaidelK @HeathenWombat @spikeinthemidge @Sicut_Lupus @BBrown24646528 @AndrewRChapman @umfpt @1pckt @KendallShafer @jools6691 @adrianturner01 @JoeMDodd85 @PearSpheroid @ApostatePod @RTheatheist @albinogoth I mean, right there, that's a Christian worldview. Jews generally are more concerned with what is happening on earth and doing the right thing here. There's not the same concept of heaven or hell. And the whole thing about accepting everything on faith is very Christian--"
        ],
        [
         "5987",
         "@AnneOLe43078812 @bervamrojavi @kppotatoes @malkaavram @anniefofani @alannah_siobhan @Mikey007007 @Indisciplined12 @DonaldHorwitz5 @bilmishmish @OpenMin05346188 @Th2shay @LiverOfLife3 @Ahmadfarukhii @noam8080 @TimGranite @BENJAMlNTUCKER @OliverKBrown @JonahIvriAnochi @ScripteIadora @laielkha @fperez1776 @rosaismyhero @swepal1 @HebMacMan @BlueGreenberg @MiriamL99472550 @corjoy @nifkadimnohahim @MayaMurful @sunshinemind4 @ruskhat @maggicarter @AlBiRumi @HusseinBahsoun1 @Brad_Spielman @NGScott_NZ @fazel25689797 @bad_bec @GreteThorn @aalsaid54 @Maalbar1Mohd @Dorierez @WARONWASHINGTON @RosaWal90673631 @BrianLanca @inshallah1001 @squeeze_soul @gerda00052 @for_americans Yiddish contains thousands of Hebrew &amp; Aramaic words. Yiddish speakers also interacted with other Jews extensively. Btw, the oldest collection of texts in Yiddish comes from 1300s Cairo."
        ],
        [
         "852",
         "@SyrianEcho @nissatal @Ezra_HaLevi @M0sstr00per @realChaim_Rubin @wisermann @DHasbara @TheKanaaneh @AhmedElshiekhA @viewreader @dbenilevi @CarlPendleton6 @BigDuke077 @paulmurff @TelAvivYonatan @ThorsProvoni @Dmonsel @rmorgy @fruitbatoo @LogicAndSanity @BaronieSisters @rogsonl @Ladonna48241663 @TiKingGraphics @PizzaGateLibya @malkaavram @BlueGreenberg @wurzel260654 @yoni_yonder @methuengena @PepperWingate @Tile57437223 @sherif_el_sayad @lephophora @ShamronAri @PalestineReverb @Johnkkelly2 @jdwstangs3 @AnastasiaKLynch @spiderzjay @tbago @mizrahi_b @iluvdemocracy99 @Copernicus2013 @CosFot @laielkha @NobodyNorman @rashidgill5 @YitzchakAded @nadiatonic2 The Romans renamed the land of a Israel when they also destroyed the second temple in Jerusalem it was then called Palestina. Jews have been living in the land of Judea and Summaria for centuries"
        ],
        [
         "3659",
         "@BrasasEn @openeysdown @Steven495 @Talal9409 @TopRantKing @No_Israel_State @mamash_lo @Leylakhalid22 @makjob786 @kimbennylarsen @BeerBaron14 @SeguelSaul @passtheduchi @Joseetje3 @pohonyangdamai @mrpeabody @david_starof @shez19833 @EliavAbey @mlirh @Scripteladora @m_jew @TheZionist3 @ladyalmagreen @nigib1 @iluvdemocracy99 @DrawNiv @LehiRed @HebMacMan @AlbertGooner @dlsmith0817 @BoomerangTime @EnLiEretzAheret @PriestSanity @YourFriendZippy @Mabigbelio @AaIsrael2 @BoomTown85 @qtr_uk96 @AMilitantAgnost @StoliMark @fruitbatoo @RuruRola73 @slax43 @coaxialcreature @DavidSy32945540 @GlennnRoss @ilanyvv @shoozer12 @scopevale ApartheidIsrael, if there is a more racist nation on this planet of our, I don't know who it is. Black Jews, are actually treated appalling by the way. Check out David Sheen. He's done a lot of work exposing this https://t.co/s23B9r1fkw"
        ],
        [
         "3926",
         "@Leylakhalid22 @SimonVrouwe @JudgeFudge5 @YB1234oo @Roni4488 @AlonMa221 @ladyalmagreen @Joseetje3 @Resistdwp @Phant3985 @HebMacMan @TheZionist3 @MisterTwyst @FRONTLINE972 @yes_we_cat @themoiety @Scripteladora @david_starof @malkaavram @BoomTown85 @Go4greatest @Scot4Israel @DanielMazahreh @iluvdemocracy99 @JHorn12 @slax43 @BaronieSisters @sweposten @serhumanomiguel @SwissTechie @Yankees_Rule_ @Pakeha56 @amoyal @PriestSanity @TelAvivbroker @canpassforsmart @dorrit_r @RSE79 @aron_alee @HillsHaveEyes02 @searchfeast @ErezNeumark @AbuShlomo @BReginleif @TopRantKing @pohonyangdamai @Grattan_H @CharlieLuchian2 @Rasputinish @narrow_p Yes, but You arent such a Jew. The Bible-Jews do not exist anymore.\n\nThere are millions fakejews, the heritage hunters:\na) from Bible-Jews and\nb) from Holocaust.\n\nhttps://t.co/cLducBcump"
        ],
        [
         "5798",
         "@BlueGreenberg @AdrienWolf13 @dlsmith0817 @Dec_Judea @aflanamabadi @mabosisc @sleepyhead513 @Abel_Balb0 @FredYosemite @PPioer @Scripteladora @M0sstr00per @MehrMiriam @Love4Al02036737 @Stephen46723144 @gomiriam63 @mrpeabody @nadness13 @AClosethecamps @IQ15991967 @swepal1 @IILeahll @PaytoslayOm @Bobby6172 @ellyngail @AntiZionistB @KevanKerby @P3ng1z @MattScottMusic @doobydoobydo2 @IngloriousBhere @Sunbeam110 @docbegel @retiredjudean @NKippur @folktayl @LavBaalDevarim @Wildflower1948 @realHasdaiC @RavShlomoYarhi @emmettimanu @luketebbs @BadriDawud @RosieVegGdn @SamuelLasker @MarkRPellegrino @HebMacMan @fishynobi @kokokranch18 The historical record is limited, patchy and not continuous.\n\nThe region is home to a diverse population of which Jews were an insignificant minority."
        ]
       ],
       "shape": {
        "columns": 1,
        "rows": 6
       }
      },
      "text/plain": [
       "6088    @OnkelFester @SMoistpit @Melanie33720945 @shi_...\n",
       "5987    @AnneOLe43078812 @bervamrojavi @kppotatoes @ma...\n",
       "852     @SyrianEcho @nissatal @Ezra_HaLevi @M0sstr00pe...\n",
       "3659    @BrasasEn @openeysdown @Steven495 @Talal9409 @...\n",
       "3926    @Leylakhalid22 @SimonVrouwe @JudgeFudge5 @YB12...\n",
       "5798    @BlueGreenberg @AdrienWolf13 @dlsmith0817 @Dec...\n",
       "Name: Text, dtype: object"
      ]
     },
     "execution_count": 20,
     "metadata": {},
     "output_type": "execute_result"
    }
   ],
   "source": [
    "# df.groupby(['Biased'])[['Biased','Text']].head(3).reset_index().to_dict()\n",
    "temp = df.groupby(\"Biased\")[[\"Biased\", \"Text\"]].head(3)\n",
    "temp.sort_values([\"Biased\"])[\"Text\"]\n"
   ]
  },
  {
   "cell_type": "markdown",
   "id": "50aaf859",
   "metadata": {},
   "source": [
    "יצירת קובץ הJSON וטעינת הנתונים לתוכו"
   ]
  },
  {
   "cell_type": "code",
   "execution_count": 21,
   "id": "285202de",
   "metadata": {},
   "outputs": [],
   "source": [
    "with open(\"/Users/lyhwstynmn/פרוייקטים/python/test/results/results.json\", \"w\") as file:\n",
    "    json.dump(result, file)\n"
   ]
  }
 ],
 "metadata": {
  "kernelspec": {
   "display_name": "venv",
   "language": "python",
   "name": "python3"
  },
  "language_info": {
   "codemirror_mode": {
    "name": "ipython",
    "version": 3
   },
   "file_extension": ".py",
   "mimetype": "text/x-python",
   "name": "python",
   "nbconvert_exporter": "python",
   "pygments_lexer": "ipython3",
   "version": "3.13.3"
  }
 },
 "nbformat": 4,
 "nbformat_minor": 5
}
